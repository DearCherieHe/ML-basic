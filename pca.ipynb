{
 "cells": [
  {
   "cell_type": "code",
   "execution_count": 41,
   "metadata": {
    "collapsed": false
   },
   "outputs": [
    {
     "data": {
      "text/plain": [
       "(149, 5)"
      ]
     },
     "execution_count": 41,
     "metadata": {},
     "output_type": "execute_result"
    }
   ],
   "source": [
    "import pandas as pd\n",
    "df = pd.read_csv('iris.data.txt')\n",
    "df.columns=['sepal_len', 'sepal_wid', 'petal_len', 'petal_wid', 'class']\n",
    "df.shape"
   ]
  },
  {
   "cell_type": "code",
   "execution_count": 42,
   "metadata": {
    "collapsed": true
   },
   "outputs": [],
   "source": [
    "X = df.ix[:,0:4].values\n",
    "y = df.ix[:,4].values"
   ]
  },
  {
   "cell_type": "code",
   "execution_count": 43,
   "metadata": {
    "collapsed": true
   },
   "outputs": [],
   "source": [
    "from sklearn.preprocessing import StandardScaler\n",
    "X_std = StandardScaler().fit_transform(X)"
   ]
  },
  {
   "cell_type": "code",
   "execution_count": 44,
   "metadata": {
    "collapsed": false
   },
   "outputs": [
    {
     "name": "stdout",
     "output_type": "stream",
     "text": [
      "Covariance matrix \n",
      "[[ 1.00675676 -0.10448539  0.87716999  0.82249094]\n",
      " [-0.10448539  1.00675676 -0.41802325 -0.35310295]\n",
      " [ 0.87716999 -0.41802325  1.00675676  0.96881642]\n",
      " [ 0.82249094 -0.35310295  0.96881642  1.00675676]]\n"
     ]
    }
   ],
   "source": [
    "# compute covariance matrix\n",
    "import numpy as np\n",
    "mean_vec = np.mean(X_std, axis=0)\n",
    "cov_mat = (X_std - mean_vec).T.dot((X_std - mean_vec)) / (X_std.shape[0]-1)\n",
    "print('Covariance matrix \\n%s' %cov_mat)"
   ]
  },
  {
   "cell_type": "code",
   "execution_count": 45,
   "metadata": {
    "collapsed": false
   },
   "outputs": [
    {
     "name": "stdout",
     "output_type": "stream",
     "text": [
      "Eigenvectors \n",
      "[[ 0.52308496 -0.36956962 -0.72154279  0.26301409]\n",
      " [-0.25956935 -0.92681168  0.2411952  -0.12437342]\n",
      " [ 0.58184289 -0.01912775  0.13962963 -0.80099722]\n",
      " [ 0.56609604 -0.06381646  0.63380158  0.52321917]]\n",
      "\n",
      "Eigenvalues \n",
      "[ 2.92442837  0.93215233  0.14946373  0.02098259]\n"
     ]
    }
   ],
   "source": [
    "# engenvector and engienvalues\n",
    "cov_mat = np.cov(X_std.T)\n",
    "\n",
    "eig_vals, eig_vecs = np.linalg.eig(cov_mat)\n",
    "\n",
    "print('Eigenvectors \\n%s' %eig_vecs)\n",
    "print('\\nEigenvalues \\n%s' %eig_vals)"
   ]
  },
  {
   "cell_type": "code",
   "execution_count": 46,
   "metadata": {
    "collapsed": false
   },
   "outputs": [
    {
     "name": "stdout",
     "output_type": "stream",
     "text": [
      "Eigenvalues in descending order:\n",
      "2.92442836911\n",
      "0.932152330254\n",
      "0.149463734898\n",
      "0.0209825927643\n"
     ]
    }
   ],
   "source": [
    "# Make a list of (eigenvalue, eigenvector) tuples\n",
    "eig_pairs = [(np.abs(eig_vals[i]), eig_vecs[:,i]) for i in range(len(eig_vals))]\n",
    "\n",
    "# Sort the (eigenvalue, eigenvector) tuples from high to low\n",
    "eig_pairs.sort()\n",
    "eig_pairs.reverse()\n",
    "\n",
    "# Visually confirm that the list is correctly sorted by decreasing eigenvalues\n",
    "print('Eigenvalues in descending order:')\n",
    "for i in eig_pairs:\n",
    "    print(i[0])"
   ]
  },
  {
   "cell_type": "code",
   "execution_count": 29,
   "metadata": {
    "collapsed": false
   },
   "outputs": [
    {
     "name": "stdout",
     "output_type": "stream",
     "text": [
      "Recommend 1:\n"
     ]
    },
    {
     "data": {
      "text/plain": [
       "1"
      ]
     },
     "execution_count": 29,
     "metadata": {},
     "output_type": "execute_result"
    }
   ],
   "source": [
    "#The explained variance tells us how much information (variance) can be attributed to each of the principal components.\n",
    "from sklearn.decomposition import PCA\n",
    "def getncomponent(inputdata):\n",
    "    pca = PCA()  \n",
    "    pca.fit(inputdata)    \n",
    "    EV_List = pca.explained_variance_  \n",
    "    EVR_List = []  \n",
    "    for j in range(len(EV_List)):  \n",
    "        EVR_List.append(EV_List[j]/EV_List[0])  \n",
    "    for j in range(len(EVR_List)):  \n",
    "        if(EVR_List[j]<0.4):  \n",
    "            print 'Recommend %d:' %j\n",
    "            return j    \n",
    "getncomponent(X_std)"
   ]
  },
  {
   "cell_type": "code",
   "execution_count": 30,
   "metadata": {
    "collapsed": false
   },
   "outputs": [
    {
     "name": "stdout",
     "output_type": "stream",
     "text": [
      "Recommend 2:\n"
     ]
    },
    {
     "data": {
      "text/plain": [
       "2"
      ]
     },
     "execution_count": 30,
     "metadata": {},
     "output_type": "execute_result"
    }
   ],
   "source": [
    "from sklearn.decomposition import PCA\n",
    "def getncomponent(inputdata):\n",
    "    pca = PCA()  \n",
    "    pca.fit(inputdata)    \n",
    "    EV_List = pca.explained_variance_  \n",
    "    EVR_List = []  \n",
    "    for j in range(len(EV_List)):  \n",
    "        EVR_List.append(EV_List[j]/EV_List[0])  \n",
    "    for j in range(len(EVR_List)):  \n",
    "        if(EVR_List[j]<0.3):  \n",
    "            print 'Recommend %d:' %j\n",
    "            return j    \n",
    "getncomponent(X_std)"
   ]
  },
  {
   "cell_type": "code",
   "execution_count": 31,
   "metadata": {
    "collapsed": false
   },
   "outputs": [
    {
     "name": "stdout",
     "output_type": "stream",
     "text": [
      "Recommend 2:\n"
     ]
    },
    {
     "data": {
      "text/plain": [
       "2"
      ]
     },
     "execution_count": 31,
     "metadata": {},
     "output_type": "execute_result"
    }
   ],
   "source": [
    "from sklearn.decomposition import PCA\n",
    "def getncomponent(inputdata):\n",
    "    pca = PCA()  \n",
    "    pca.fit(inputdata)    \n",
    "    EV_List = pca.explained_variance_  \n",
    "    EVR_List = []  \n",
    "    for j in range(len(EV_List)):  \n",
    "        EVR_List.append(EV_List[j]/EV_List[0])  \n",
    "    for j in range(len(EVR_List)):  \n",
    "        if(EVR_List[j]<0.2):  \n",
    "            print 'Recommend %d:' %j\n",
    "            return j    \n",
    "getncomponent(X_std)"
   ]
  },
  {
   "cell_type": "code",
   "execution_count": 12,
   "metadata": {
    "collapsed": false
   },
   "outputs": [
    {
     "name": "stdout",
     "output_type": "stream",
     "text": [
      "Recommend 2:\n"
     ]
    },
    {
     "data": {
      "text/plain": [
       "2"
      ]
     },
     "execution_count": 12,
     "metadata": {},
     "output_type": "execute_result"
    }
   ],
   "source": [
    "from sklearn.decomposition import PCA\n",
    "def getncomponent(inputdata):\n",
    "    pca = PCA()  \n",
    "    pca.fit(inputdata)    \n",
    "    EV_List = pca.explained_variance_  \n",
    "    EVR_List = []  \n",
    "    for j in range(len(EV_List)):  \n",
    "        EVR_List.append(EV_List[j]/EV_List[0])  \n",
    "    for j in range(len(EVR_List)):  \n",
    "        if(EVR_List[j]<0.1):  \n",
    "            print 'Recommend %d:' %j\n",
    "            return j    \n",
    "getncomponent(X_std)"
   ]
  },
  {
   "cell_type": "code",
   "execution_count": 24,
   "metadata": {
    "collapsed": false
   },
   "outputs": [
    {
     "name": "stdout",
     "output_type": "stream",
     "text": [
      "Recommend 3:\n"
     ]
    },
    {
     "data": {
      "text/plain": [
       "3"
      ]
     },
     "execution_count": 24,
     "metadata": {},
     "output_type": "execute_result"
    }
   ],
   "source": [
    "from sklearn.decomposition import PCA\n",
    "def getncomponent(inputdata):\n",
    "    pca = PCA()  \n",
    "    pca.fit(inputdata)    \n",
    "    EV_List = pca.explained_variance_  \n",
    "    EVR_List = []  \n",
    "    for j in range(len(EV_List)):  \n",
    "        EVR_List.append(EV_List[j]/EV_List[0])  \n",
    "    for j in range(len(EVR_List)):  \n",
    "        if(EVR_List[j]<0.05):  \n",
    "            print 'Recommend %d:' %j\n",
    "            return j    \n",
    "getncomponent(X_std)"
   ]
  },
  {
   "cell_type": "code",
   "execution_count": 35,
   "metadata": {
    "collapsed": false
   },
   "outputs": [
    {
     "data": {
      "image/png": "[encoded data removed]",
      "text/plain": [
       "<matplotlib.figure.Figure at 0x1152ddd10>"
      ]
     },
     "metadata": {},
     "output_type": "display_data"
    }
   ],
   "source": [
    "import numpy as np\n",
    "import pandas as pd\n",
    "explained_variance=np.array([0.6,0.7,0.8,0.9,0.95])\n",
    "n_components=np.array([1,2,2,2,3])\n",
    "df_pca=pd.DataFrame(explained_variance, columns=['explained_variance'])\n",
    "df_pca['n_components']=n_components\n",
    "import matplotlib.pyplot as plt \n",
    "plt.plot(df_pca['n_components'],df_pca['explained_variance'], \"o\")\n",
    "plt.ylim(0.5, 1)\n",
    "plt.xlim(0, 4.0)\n",
    "plt.show()"
   ]
  },
  {
   "cell_type": "code",
   "execution_count": 36,
   "metadata": {
    "collapsed": false
   },
   "outputs": [
    {
     "data": {
      "text/plain": [
       "PCA(copy=True, iterated_power='auto', n_components=2, random_state=None,\n",
       "  svd_solver='auto', tol=0.0, whiten=False)"
      ]
     },
     "execution_count": 36,
     "metadata": {},
     "output_type": "execute_result"
    }
   ],
   "source": [
    "pca = PCA(n_components=2)  \n",
    "pca.fit(X_std)"
   ]
  },
  {
   "cell_type": "code",
   "execution_count": 37,
   "metadata": {
    "collapsed": false
   },
   "outputs": [
    {
     "data": {
      "text/plain": [
       "array([[ 0.52308496, -0.25956935,  0.58184289,  0.56609604],\n",
       "       [ 0.36956962,  0.92681168,  0.01912775,  0.06381646]])"
      ]
     },
     "execution_count": 37,
     "metadata": {},
     "output_type": "execute_result"
    }
   ],
   "source": [
    "# loading at each principal component\n",
    "pca.components_"
   ]
  },
  {
   "cell_type": "code",
   "execution_count": 38,
   "metadata": {
    "collapsed": false
   },
   "outputs": [
    {
     "data": {
      "text/plain": [
       "array([ 0.72620033,  0.23147407])"
      ]
     },
     "execution_count": 38,
     "metadata": {},
     "output_type": "execute_result"
    }
   ],
   "source": [
    "# Percentage of variance explained by each of the selected components\n",
    "pca.explained_variance_ratio_"
   ]
  },
  {
   "cell_type": "code",
   "execution_count": 40,
   "metadata": {
    "collapsed": false
   },
   "outputs": [
    {
     "data": {
      "text/plain": [
       "array([  2.38437160e-16,   2.38437160e-17,  -9.53748639e-17,\n",
       "        -1.43062296e-16])"
      ]
     },
     "execution_count": 40,
     "metadata": {},
     "output_type": "execute_result"
    }
   ],
   "source": [
    "# The average of each original feature.\n",
    "pca.mean_ "
   ]
  },
  {
   "cell_type": "code",
   "execution_count": 39,
   "metadata": {
    "collapsed": false
   },
   "outputs": [
    {
     "data": {
      "text/plain": [
       "array([[-2.10795032, -0.64427554],\n",
       "       [-2.38797131, -0.30583307],\n",
       "       [-2.32487909, -0.56292316],\n",
       "       [-2.40508635,  0.687591  ],\n",
       "       [-2.08320351,  1.53025171],\n",
       "       [-2.4636848 ,  0.08795413],\n",
       "       [-2.25174963,  0.25964365],\n",
       "       [-2.3645813 , -1.08255676],\n",
       "       [-2.20946338, -0.43707676],\n",
       "       [-2.17862017,  1.08221046],\n",
       "       [-2.34525657,  0.17122946],\n",
       "       [-2.24590315, -0.6974389 ],\n",
       "       [-2.66214582, -0.92447316],\n",
       "       [-2.2050227 ,  1.90150522],\n",
       "       [-2.25993023,  2.73492274],\n",
       "       [-2.21591283,  1.52588897],\n",
       "       [-2.20705382,  0.52623535],\n",
       "       [-1.9077081 ,  1.4415791 ],\n",
       "       [-2.35411558,  1.17088308],\n",
       "       [-1.93202643,  0.44083479],\n",
       "       [-2.21942518,  0.96477499],\n",
       "       [-2.79116421,  0.50421849],\n",
       "       [-1.83814105,  0.11729122],\n",
       "       [-2.24572458,  0.17450151],\n",
       "       [-1.97825353, -0.59734172],\n",
       "       [-2.06935091,  0.27755619],\n",
       "       [-2.18514506,  0.56366755],\n",
       "       [-2.15824269,  0.34805785],\n",
       "       [-2.28843932, -0.30256102],\n",
       "       [-2.16501749, -0.47232759],\n",
       "       [-1.8491597 ,  0.45547527],\n",
       "       [-2.62023392,  1.84237072],\n",
       "       [-2.44885384,  2.1984673 ],\n",
       "       [-2.20946338, -0.43707676],\n",
       "       [-2.23112223, -0.17266644],\n",
       "       [-2.06147331,  0.6957435 ],\n",
       "       [-2.20946338, -0.43707676],\n",
       "       [-2.45783833, -0.86912843],\n",
       "       [-2.1884075 ,  0.30439609],\n",
       "       [-2.30357329,  0.48039222],\n",
       "       [-1.89932763, -2.31759817],\n",
       "       [-2.57799771, -0.4400904 ],\n",
       "       [-1.98020921,  0.50889705],\n",
       "       [-2.14679556,  1.18365675],\n",
       "       [-2.09668176, -0.68061705],\n",
       "       [-2.39554894,  1.16356284],\n",
       "       [-2.41813611, -0.34949483],\n",
       "       [-2.24196231,  1.03745802],\n",
       "       [-2.22484727,  0.04403395],\n",
       "       [ 1.09225538,  0.86148748],\n",
       "       [ 0.72045861,  0.59920238],\n",
       "       [ 1.2299583 ,  0.61280832],\n",
       "       [ 0.37598859, -1.756516  ],\n",
       "       [ 1.05729685, -0.21303055],\n",
       "       [ 0.36816104, -0.58896262],\n",
       "       [ 0.73800214,  0.77956125],\n",
       "       [-0.52021731, -1.84337921],\n",
       "       [ 0.9113379 ,  0.02941906],\n",
       "       [-0.01292322, -1.02537703],\n",
       "       [-0.15020174, -2.65452146],\n",
       "       [ 0.42437533, -0.05686991],\n",
       "       [ 0.52894687, -1.77250558],\n",
       "       [ 0.70241525, -0.18484154],\n",
       "       [-0.05385675, -0.42901221],\n",
       "       [ 0.86277668,  0.50943908],\n",
       "       [ 0.33388091, -0.18785518],\n",
       "       [ 0.13504146, -0.7883247 ],\n",
       "       [ 1.19457128, -1.63549265],\n",
       "       [ 0.13677262, -1.30063807],\n",
       "       [ 0.72711201,  0.40394501],\n",
       "       [ 0.45564294, -0.41540628],\n",
       "       [ 1.21038365, -0.94282042],\n",
       "       [ 0.61327355, -0.4161824 ],\n",
       "       [ 0.68512164, -0.06335788],\n",
       "       [ 0.85951424,  0.25016762],\n",
       "       [ 1.23906722, -0.08500278],\n",
       "       [ 1.34575245,  0.32669695],\n",
       "       [ 0.64732915, -0.22336443],\n",
       "       [-0.06728496, -1.05414028],\n",
       "       [ 0.10033285, -1.56100021],\n",
       "       [-0.00745518, -1.57050182],\n",
       "       [ 0.2179082 , -0.77368423],\n",
       "       [ 1.04116321, -0.63744742],\n",
       "       [ 0.20719664, -0.27736006],\n",
       "       [ 0.42154138,  0.85764157],\n",
       "       [ 1.03691937,  0.52112206],\n",
       "       [ 1.015435  , -1.39413373],\n",
       "       [ 0.0519502 , -0.20903977],\n",
       "       [ 0.25582921, -1.32747797],\n",
       "       [ 0.25384813, -1.11700714],\n",
       "       [ 0.60915822,  0.02858679],\n",
       "       [ 0.31116522, -0.98711256],\n",
       "       [-0.39679548, -2.01314578],\n",
       "       [ 0.26536661, -0.85150613],\n",
       "       [ 0.07385897, -0.17160757],\n",
       "       [ 0.20854936, -0.37771566],\n",
       "       [ 0.55843737, -0.15286277],\n",
       "       [-0.47853403, -1.53421644],\n",
       "       [ 0.23545172, -0.59332536],\n",
       "       [ 1.8408037 ,  0.86943848],\n",
       "       [ 1.13831104, -0.70171953],\n",
       "       [ 2.19615974,  0.54916658],\n",
       "       [ 1.42613827, -0.05187679],\n",
       "       [ 1.8575403 ,  0.28797217],\n",
       "       [ 2.74511173,  0.78056359],\n",
       "       [ 0.34010583, -1.5568955 ],\n",
       "       [ 2.29180093,  0.40328242],\n",
       "       [ 1.98618025, -0.72876171],\n",
       "       [ 2.26382116,  1.91685818],\n",
       "       [ 1.35591821,  0.69255356],\n",
       "       [ 1.58471851, -0.43102351],\n",
       "       [ 1.87342402,  0.41054652],\n",
       "       [ 1.23656166, -1.16818977],\n",
       "       [ 1.45128483, -0.4451459 ],\n",
       "       [ 1.58276283,  0.67521526],\n",
       "       [ 1.45956552,  0.25105642],\n",
       "       [ 2.43560434,  2.55096977],\n",
       "       [ 3.29752602, -0.01266612],\n",
       "       [ 1.23377366, -1.71954411],\n",
       "       [ 2.03218282,  0.90334021],\n",
       "       [ 0.95980311, -0.57047585],\n",
       "       [ 2.88717988,  0.38895776],\n",
       "       [ 1.31405636, -0.48854962],\n",
       "       [ 1.69619746,  1.01153249],\n",
       "       [ 1.94868773,  0.99881497],\n",
       "       [ 1.1574572 , -0.31987373],\n",
       "       [ 1.007133  ,  0.06550254],\n",
       "       [ 1.7733922 , -0.19641059],\n",
       "       [ 1.85327106,  0.55077372],\n",
       "       [ 2.4234788 ,  0.2397454 ],\n",
       "       [ 2.31353522,  2.62038074],\n",
       "       [ 1.84800289, -0.18799967],\n",
       "       [ 1.09649923, -0.29708201],\n",
       "       [ 1.1812503 , -0.81858241],\n",
       "       [ 2.79178861,  0.83668445],\n",
       "       [ 1.57340399,  1.07118383],\n",
       "       [ 1.33614369,  0.420823  ],\n",
       "       [ 0.91061354,  0.01965942],\n",
       "       [ 1.84350913,  0.66872729],\n",
       "       [ 2.00701161,  0.60663655],\n",
       "       [ 1.89319854,  0.68227708],\n",
       "       [ 1.13831104, -0.70171953],\n",
       "       [ 2.03519535,  0.86076914],\n",
       "       [ 1.99464025,  1.04517619],\n",
       "       [ 1.85977129,  0.37934387],\n",
       "       [ 1.54200377, -0.90808604],\n",
       "       [ 1.50925493,  0.26460621],\n",
       "       [ 1.3690965 ,  1.01583909],\n",
       "       [ 0.94680339, -0.02182097]])"
      ]
     },
     "execution_count": 39,
     "metadata": {},
     "output_type": "execute_result"
    }
   ],
   "source": [
    "# Apply PCA to the data set\n",
    "data_pca = pca.transform(X_std)\n",
    "data_pca"
   ]
  },
  {
   "cell_type": "code",
   "execution_count": null,
   "metadata": {
    "collapsed": true
   },
   "outputs": [],
   "source": []
  }
 ],
 "metadata": {
  "kernelspec": {
   "display_name": "Python 2",
   "language": "python",
   "name": "python2"
  },
  "language_info": {
   "codemirror_mode": {
    "name": "ipython",
    "version": 2
   },
   "file_extension": ".py",
   "mimetype": "text/x-python",
   "name": "python",
   "nbconvert_exporter": "python",
   "pygments_lexer": "ipython2",
   "version": "2.7.11"
  }
 },
 "nbformat": 4,
 "nbformat_minor": 0
}
