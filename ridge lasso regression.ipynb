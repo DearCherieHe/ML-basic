{
 "cells": [
  {
   "cell_type": "code",
   "execution_count": 191,
   "metadata": {
    "collapsed": false
   },
   "outputs": [
    {
     "data": {
      "text/html": [
       "<div>\n",
       "<table border=\"1\" class=\"dataframe\">\n",
       "  <thead>\n",
       "    <tr style=\"text-align: right;\">\n",
       "      <th></th>\n",
       "      <th>lcavol</th>\n",
       "      <th>lweight</th>\n",
       "      <th>age</th>\n",
       "      <th>lbph</th>\n",
       "      <th>svi</th>\n",
       "      <th>lcp</th>\n",
       "      <th>gleason</th>\n",
       "      <th>pgg45</th>\n",
       "      <th>lpsa</th>\n",
       "    </tr>\n",
       "  </thead>\n",
       "  <tbody>\n",
       "    <tr>\n",
       "      <th>1</th>\n",
       "      <td>-0.579818</td>\n",
       "      <td>2.769459</td>\n",
       "      <td>50</td>\n",
       "      <td>-1.386294</td>\n",
       "      <td>0</td>\n",
       "      <td>-1.386294</td>\n",
       "      <td>6</td>\n",
       "      <td>0</td>\n",
       "      <td>-0.430783</td>\n",
       "    </tr>\n",
       "    <tr>\n",
       "      <th>2</th>\n",
       "      <td>-0.994252</td>\n",
       "      <td>3.319626</td>\n",
       "      <td>58</td>\n",
       "      <td>-1.386294</td>\n",
       "      <td>0</td>\n",
       "      <td>-1.386294</td>\n",
       "      <td>6</td>\n",
       "      <td>0</td>\n",
       "      <td>-0.162519</td>\n",
       "    </tr>\n",
       "    <tr>\n",
       "      <th>3</th>\n",
       "      <td>-0.510826</td>\n",
       "      <td>2.691243</td>\n",
       "      <td>74</td>\n",
       "      <td>-1.386294</td>\n",
       "      <td>0</td>\n",
       "      <td>-1.386294</td>\n",
       "      <td>7</td>\n",
       "      <td>20</td>\n",
       "      <td>-0.162519</td>\n",
       "    </tr>\n",
       "    <tr>\n",
       "      <th>4</th>\n",
       "      <td>-1.203973</td>\n",
       "      <td>3.282789</td>\n",
       "      <td>58</td>\n",
       "      <td>-1.386294</td>\n",
       "      <td>0</td>\n",
       "      <td>-1.386294</td>\n",
       "      <td>6</td>\n",
       "      <td>0</td>\n",
       "      <td>-0.162519</td>\n",
       "    </tr>\n",
       "    <tr>\n",
       "      <th>5</th>\n",
       "      <td>0.751416</td>\n",
       "      <td>3.432373</td>\n",
       "      <td>62</td>\n",
       "      <td>-1.386294</td>\n",
       "      <td>0</td>\n",
       "      <td>-1.386294</td>\n",
       "      <td>6</td>\n",
       "      <td>0</td>\n",
       "      <td>0.371564</td>\n",
       "    </tr>\n",
       "  </tbody>\n",
       "</table>\n",
       "</div>"
      ],
      "text/plain": [
       "     lcavol   lweight  age      lbph  svi       lcp  gleason  pgg45      lpsa\n",
       "1 -0.579818  2.769459   50 -1.386294    0 -1.386294        6      0 -0.430783\n",
       "2 -0.994252  3.319626   58 -1.386294    0 -1.386294        6      0 -0.162519\n",
       "3 -0.510826  2.691243   74 -1.386294    0 -1.386294        7     20 -0.162519\n",
       "4 -1.203973  3.282789   58 -1.386294    0 -1.386294        6      0 -0.162519\n",
       "5  0.751416  3.432373   62 -1.386294    0 -1.386294        6      0  0.371564"
      ]
     },
     "execution_count": 191,
     "metadata": {},
     "output_type": "execute_result"
    }
   ],
   "source": [
    "# ridge model\n",
    "import numpy as np\n",
    "import pandas as pd\n",
    "from sklearn import datasets\n",
    "from sklearn.linear_model import Ridge\n",
    "from sklearn.model_selection import GridSearchCV\n",
    "Prostate=pd.read_csv('Prostate.txt', sep=' ')\n",
    "Prostate.head()"
   ]
  },
  {
   "cell_type": "code",
   "execution_count": 133,
   "metadata": {
    "collapsed": false
   },
   "outputs": [],
   "source": [
    "# define x and y\n",
    "X=Prostate[['lcavol', 'lweight', 'age', 'lbph', 'svi', 'lcp', 'gleason', 'pgg45']]\n",
    "Y=Prostate['lpsa']"
   ]
  },
  {
   "cell_type": "code",
   "execution_count": 192,
   "metadata": {
    "collapsed": false
   },
   "outputs": [
    {
     "data": {
      "text/html": [
       "<div>\n",
       "<table border=\"1\" class=\"dataframe\">\n",
       "  <thead>\n",
       "    <tr style=\"text-align: right;\">\n",
       "      <th></th>\n",
       "      <th>lcavol</th>\n",
       "      <th>lweight</th>\n",
       "      <th>age</th>\n",
       "      <th>lbph</th>\n",
       "      <th>svi</th>\n",
       "      <th>lcp</th>\n",
       "      <th>gleason</th>\n",
       "      <th>pgg45</th>\n",
       "      <th>lpsa</th>\n",
       "    </tr>\n",
       "  </thead>\n",
       "  <tbody>\n",
       "    <tr>\n",
       "      <th>1</th>\n",
       "      <td>-1.637356</td>\n",
       "      <td>-2.006212</td>\n",
       "      <td>-1.862426</td>\n",
       "      <td>-1.024706</td>\n",
       "      <td>-0.522941</td>\n",
       "      <td>-0.863171</td>\n",
       "      <td>-1.042157</td>\n",
       "      <td>-0.864467</td>\n",
       "      <td>-2.520226</td>\n",
       "    </tr>\n",
       "    <tr>\n",
       "      <th>2</th>\n",
       "      <td>-1.988980</td>\n",
       "      <td>-0.722009</td>\n",
       "      <td>-0.787896</td>\n",
       "      <td>-1.024706</td>\n",
       "      <td>-0.522941</td>\n",
       "      <td>-0.863171</td>\n",
       "      <td>-1.042157</td>\n",
       "      <td>-0.864467</td>\n",
       "      <td>-2.287827</td>\n",
       "    </tr>\n",
       "    <tr>\n",
       "      <th>3</th>\n",
       "      <td>-1.578819</td>\n",
       "      <td>-2.188784</td>\n",
       "      <td>1.361163</td>\n",
       "      <td>-1.024706</td>\n",
       "      <td>-0.522941</td>\n",
       "      <td>-0.863171</td>\n",
       "      <td>0.342627</td>\n",
       "      <td>-0.155348</td>\n",
       "      <td>-2.287827</td>\n",
       "    </tr>\n",
       "    <tr>\n",
       "      <th>4</th>\n",
       "      <td>-2.166917</td>\n",
       "      <td>-0.807994</td>\n",
       "      <td>-0.787896</td>\n",
       "      <td>-1.024706</td>\n",
       "      <td>-0.522941</td>\n",
       "      <td>-0.863171</td>\n",
       "      <td>-1.042157</td>\n",
       "      <td>-0.864467</td>\n",
       "      <td>-2.287827</td>\n",
       "    </tr>\n",
       "    <tr>\n",
       "      <th>5</th>\n",
       "      <td>-0.507874</td>\n",
       "      <td>-0.458834</td>\n",
       "      <td>-0.250631</td>\n",
       "      <td>-1.024706</td>\n",
       "      <td>-0.522941</td>\n",
       "      <td>-0.863171</td>\n",
       "      <td>-1.042157</td>\n",
       "      <td>-0.864467</td>\n",
       "      <td>-1.825150</td>\n",
       "    </tr>\n",
       "  </tbody>\n",
       "</table>\n",
       "</div>"
      ],
      "text/plain": [
       "     lcavol   lweight       age      lbph       svi       lcp   gleason  \\\n",
       "1 -1.637356 -2.006212 -1.862426 -1.024706 -0.522941 -0.863171 -1.042157   \n",
       "2 -1.988980 -0.722009 -0.787896 -1.024706 -0.522941 -0.863171 -1.042157   \n",
       "3 -1.578819 -2.188784  1.361163 -1.024706 -0.522941 -0.863171  0.342627   \n",
       "4 -2.166917 -0.807994 -0.787896 -1.024706 -0.522941 -0.863171 -1.042157   \n",
       "5 -0.507874 -0.458834 -0.250631 -1.024706 -0.522941 -0.863171 -1.042157   \n",
       "\n",
       "      pgg45      lpsa  \n",
       "1 -0.864467 -2.520226  \n",
       "2 -0.864467 -2.287827  \n",
       "3 -0.155348 -2.287827  \n",
       "4 -0.864467 -2.287827  \n",
       "5 -0.864467 -1.825150  "
      ]
     },
     "execution_count": 192,
     "metadata": {},
     "output_type": "execute_result"
    }
   ],
   "source": [
    "# standardize X\n",
    "Prostate_std=((Prostate - Prostate.mean(0)) / Prostate.std(0))\n",
    "Prostate_std.head()"
   ]
  },
  {
   "cell_type": "code",
   "execution_count": 193,
   "metadata": {
    "collapsed": false
   },
   "outputs": [
    {
     "name": "stdout",
     "output_type": "stream",
     "text": [
      "lcavol      1.350010\n",
      "lweight     3.628943\n",
      "age        63.865979\n",
      "lbph        0.100356\n",
      "svi         0.216495\n",
      "lcp        -0.179366\n",
      "gleason     6.752577\n",
      "pgg45      24.381443\n",
      "lpsa        2.478387\n",
      "dtype: float64\n",
      "lcavol      1.178625\n",
      "lweight     0.428411\n",
      "age         7.445117\n",
      "lbph        1.450807\n",
      "svi         0.413995\n",
      "lcp         1.398250\n",
      "gleason     0.722134\n",
      "pgg45      28.204035\n",
      "lpsa        1.154329\n",
      "dtype: float64\n"
     ]
    }
   ],
   "source": [
    "print Prostate.mean(0)\n",
    "print Prostate.std(0)"
   ]
  },
  {
   "cell_type": "code",
   "execution_count": 194,
   "metadata": {
    "collapsed": false
   },
   "outputs": [
    {
     "name": "stdout",
     "output_type": "stream",
     "text": [
      "lcavol     7.325183e-17\n",
      "lweight    8.011919e-16\n",
      "age        5.036063e-16\n",
      "lbph       2.231892e-17\n",
      "svi        3.296332e-16\n",
      "lcp        3.296332e-16\n",
      "gleason   -3.319223e-17\n",
      "pgg45     -4.091801e-17\n",
      "lpsa      -7.554095e-16\n",
      "dtype: float64\n",
      "lcavol     1.0\n",
      "lweight    1.0\n",
      "age        1.0\n",
      "lbph       1.0\n",
      "svi        1.0\n",
      "lcp        1.0\n",
      "gleason    1.0\n",
      "pgg45      1.0\n",
      "lpsa       1.0\n",
      "dtype: float64\n"
     ]
    }
   ],
   "source": [
    "print Prostate_std.mean(0)\n",
    "print Prostate_std.std(0)"
   ]
  },
  {
   "cell_type": "code",
   "execution_count": 195,
   "metadata": {
    "collapsed": false
   },
   "outputs": [
    {
     "data": {
      "text/html": [
       "<div>\n",
       "<table border=\"1\" class=\"dataframe\">\n",
       "  <thead>\n",
       "    <tr style=\"text-align: right;\">\n",
       "      <th></th>\n",
       "      <th>lcavol</th>\n",
       "      <th>lweight</th>\n",
       "      <th>age</th>\n",
       "      <th>lbph</th>\n",
       "      <th>svi</th>\n",
       "      <th>lcp</th>\n",
       "      <th>gleason</th>\n",
       "      <th>pgg45</th>\n",
       "      <th>lpsa</th>\n",
       "    </tr>\n",
       "  </thead>\n",
       "  <tbody>\n",
       "    <tr>\n",
       "      <th>1</th>\n",
       "      <td>-1.929828</td>\n",
       "      <td>-0.859484</td>\n",
       "      <td>-13.865979</td>\n",
       "      <td>-1.48665</td>\n",
       "      <td>-0.216495</td>\n",
       "      <td>-1.206929</td>\n",
       "      <td>-0.752577</td>\n",
       "      <td>-24.381443</td>\n",
       "      <td>-2.909170</td>\n",
       "    </tr>\n",
       "    <tr>\n",
       "      <th>2</th>\n",
       "      <td>-2.344262</td>\n",
       "      <td>-0.309317</td>\n",
       "      <td>-5.865979</td>\n",
       "      <td>-1.48665</td>\n",
       "      <td>-0.216495</td>\n",
       "      <td>-1.206929</td>\n",
       "      <td>-0.752577</td>\n",
       "      <td>-24.381443</td>\n",
       "      <td>-2.640906</td>\n",
       "    </tr>\n",
       "    <tr>\n",
       "      <th>3</th>\n",
       "      <td>-1.860835</td>\n",
       "      <td>-0.937700</td>\n",
       "      <td>10.134021</td>\n",
       "      <td>-1.48665</td>\n",
       "      <td>-0.216495</td>\n",
       "      <td>-1.206929</td>\n",
       "      <td>0.247423</td>\n",
       "      <td>-4.381443</td>\n",
       "      <td>-2.640906</td>\n",
       "    </tr>\n",
       "    <tr>\n",
       "      <th>4</th>\n",
       "      <td>-2.553982</td>\n",
       "      <td>-0.346154</td>\n",
       "      <td>-5.865979</td>\n",
       "      <td>-1.48665</td>\n",
       "      <td>-0.216495</td>\n",
       "      <td>-1.206929</td>\n",
       "      <td>-0.752577</td>\n",
       "      <td>-24.381443</td>\n",
       "      <td>-2.640906</td>\n",
       "    </tr>\n",
       "    <tr>\n",
       "      <th>5</th>\n",
       "      <td>-0.598593</td>\n",
       "      <td>-0.196570</td>\n",
       "      <td>-1.865979</td>\n",
       "      <td>-1.48665</td>\n",
       "      <td>-0.216495</td>\n",
       "      <td>-1.206929</td>\n",
       "      <td>-0.752577</td>\n",
       "      <td>-24.381443</td>\n",
       "      <td>-2.106823</td>\n",
       "    </tr>\n",
       "  </tbody>\n",
       "</table>\n",
       "</div>"
      ],
      "text/plain": [
       "     lcavol   lweight        age     lbph       svi       lcp   gleason  \\\n",
       "1 -1.929828 -0.859484 -13.865979 -1.48665 -0.216495 -1.206929 -0.752577   \n",
       "2 -2.344262 -0.309317  -5.865979 -1.48665 -0.216495 -1.206929 -0.752577   \n",
       "3 -1.860835 -0.937700  10.134021 -1.48665 -0.216495 -1.206929  0.247423   \n",
       "4 -2.553982 -0.346154  -5.865979 -1.48665 -0.216495 -1.206929 -0.752577   \n",
       "5 -0.598593 -0.196570  -1.865979 -1.48665 -0.216495 -1.206929 -0.752577   \n",
       "\n",
       "       pgg45      lpsa  \n",
       "1 -24.381443 -2.909170  \n",
       "2 -24.381443 -2.640906  \n",
       "3  -4.381443 -2.640906  \n",
       "4 -24.381443 -2.640906  \n",
       "5 -24.381443 -2.106823  "
      ]
     },
     "execution_count": 195,
     "metadata": {},
     "output_type": "execute_result"
    }
   ],
   "source": [
    "# centralize y\n",
    "Prostate_ctl=Prostate - Prostate.mean(0)\n",
    "Prostate_ctl.head()"
   ]
  },
  {
   "cell_type": "code",
   "execution_count": 197,
   "metadata": {
    "collapsed": false
   },
   "outputs": [],
   "source": [
    "X_std=Prostate_std[['lcavol', 'lweight', 'age', 'lbph', 'svi', 'lcp', 'gleason', 'pgg45']]\n",
    "Y_ctl=Prostate_ctl['lpsa']"
   ]
  },
  {
   "cell_type": "code",
   "execution_count": 196,
   "metadata": {
    "collapsed": false
   },
   "outputs": [
    {
     "name": "stdout",
     "output_type": "stream",
     "text": [
      "lcavol     1.831296e-17\n",
      "lweight    3.158985e-16\n",
      "age        3.076577e-15\n",
      "lbph       5.036063e-17\n",
      "svi        2.037316e-16\n",
      "lcp        5.402322e-16\n",
      "gleason   -4.669804e-16\n",
      "pgg45     -1.065814e-14\n",
      "lpsa      -7.599877e-16\n",
      "dtype: float64\n",
      "lcavol      1.350010\n",
      "lweight     3.628943\n",
      "age        63.865979\n",
      "lbph        0.100356\n",
      "svi         0.216495\n",
      "lcp        -0.179366\n",
      "gleason     6.752577\n",
      "pgg45      24.381443\n",
      "lpsa        2.478387\n",
      "dtype: float64\n"
     ]
    }
   ],
   "source": [
    "print Prostate_ctl.mean(0)\n",
    "print Prostate.mean(0)"
   ]
  },
  {
   "cell_type": "code",
   "execution_count": 169,
   "metadata": {
    "collapsed": false
   },
   "outputs": [
    {
     "name": "stdout",
     "output_type": "stream",
     "text": [
      "1   -2.909170\n",
      "2   -2.640906\n",
      "3   -2.640906\n",
      "4   -2.640906\n",
      "5   -2.106823\n",
      "Name: lpsa, dtype: float64\n",
      "1   -0.430783\n",
      "2   -0.162519\n",
      "3   -0.162519\n",
      "4   -0.162519\n",
      "5    0.371564\n",
      "Name: lpsa, dtype: float64\n"
     ]
    }
   ],
   "source": [
    "print Y_ctl[:5]\n",
    "print Y[:5]"
   ]
  },
  {
   "cell_type": "code",
   "execution_count": 198,
   "metadata": {
    "collapsed": false
   },
   "outputs": [],
   "source": [
    "# split to training/test set\n",
    "from sklearn.cross_validation import train_test_split\n",
    "X_train, X_test, y_train, y_test = train_test_split(X, Y, test_size=0.2, random_state=42)"
   ]
  },
  {
   "cell_type": "code",
   "execution_count": 199,
   "metadata": {
    "collapsed": false
   },
   "outputs": [],
   "source": [
    "# split to training/test set\n",
    "from sklearn.cross_validation import train_test_split\n",
    "X_trainstd, X_teststd, y_trainctl, y_testctl = train_test_split(X_std, Y_ctl, test_size=0.2, random_state=42)"
   ]
  },
  {
   "cell_type": "code",
   "execution_count": 172,
   "metadata": {
    "collapsed": false
   },
   "outputs": [
    {
     "name": "stdout",
     "output_type": "stream",
     "text": [
      "GridSearchCV(cv=5, error_score='raise',\n",
      "       estimator=Ridge(alpha=1.0, copy_X=True, fit_intercept=True, max_iter=None,\n",
      "   normalize=False, random_state=None, solver='auto', tol=0.001),\n",
      "       fit_params={}, iid=True, n_jobs=1,\n",
      "       param_grid={'alpha': array([  1.00000e+00,   1.00000e-01,   1.00000e-02,   1.00000e-03,\n",
      "         1.00000e-04,   0.00000e+00])},\n",
      "       pre_dispatch='2*n_jobs', refit=True, return_train_score=True,\n",
      "       scoring=None, verbose=0)\n",
      "0.434291640231\n",
      "0.1\n"
     ]
    }
   ],
   "source": [
    "#Grid Search Parameter Tuning\n",
    "# prepare a range of alpha values to test\n",
    "alphas = np.array([1,0.1,0.01,0.001,0.0001,0])\n",
    "# create and fit a ridge regression model, testing each alpha\n",
    "model1 = Ridge()\n",
    "grid1 = GridSearchCV(estimator=model1, param_grid=dict(alpha=alphas),cv=5)\n",
    "grid1.fit(X_train, y_train)\n",
    "# summarize the results of the grid search\n",
    "print grid1\n",
    "# summarize the results of the grid search\n",
    "print(grid1.best_score_)\n",
    "print(grid1.best_estimator_.alpha)"
   ]
  },
  {
   "cell_type": "code",
   "execution_count": 173,
   "metadata": {
    "collapsed": false
   },
   "outputs": [
    {
     "name": "stdout",
     "output_type": "stream",
     "text": [
      "GridSearchCV(cv=5, error_score='raise',\n",
      "       estimator=Ridge(alpha=1.0, copy_X=True, fit_intercept=True, max_iter=None,\n",
      "   normalize=False, random_state=None, solver='auto', tol=0.001),\n",
      "       fit_params={}, iid=True, n_jobs=1,\n",
      "       param_grid={'alpha': array([  1.00000e+00,   1.00000e-01,   1.00000e-02,   1.00000e-03,\n",
      "         1.00000e-04,   0.00000e+00])},\n",
      "       pre_dispatch='2*n_jobs', refit=True, return_train_score=True,\n",
      "       scoring=None, verbose=0)\n",
      "0.435218492106\n",
      "1.0\n"
     ]
    }
   ],
   "source": [
    "#Grid Search Parameter Tuning\n",
    "# prepare a range of alpha values to test\n",
    "alphas = np.array([1,0.1,0.01,0.001,0.0001,0])\n",
    "# create and fit a ridge regression model, testing each alpha\n",
    "model2 = Ridge()\n",
    "grid2 = GridSearchCV(estimator=model2, param_grid=dict(alpha=alphas), cv=5)\n",
    "grid2.fit(X_trainstd, y_trainctl)\n",
    "print(grid2)\n",
    "# summarize the results of the grid search\n",
    "print(grid2.best_score_)\n",
    "print(grid2.best_estimator_.alpha)"
   ]
  },
  {
   "cell_type": "code",
   "execution_count": 174,
   "metadata": {
    "collapsed": false
   },
   "outputs": [
    {
     "name": "stdout",
     "output_type": "stream",
     "text": [
      "R^2 for training set: 0.629995283603\n",
      "--------------------------------------------------\n",
      "R^2 for test set: 0.757481079807\n",
      "--------------------------------------------------\n",
      "RSS: 6.94\n"
     ]
    }
   ],
   "source": [
    "# fit the model\n",
    "ridge1 = Ridge(alpha=0.1)\n",
    "ridge1.fit(X_train, y_train)\n",
    "print \"R^2 for training set:\",\n",
    "print ridge1.score(X_train, y_train)\n",
    "\n",
    "print '-'*50\n",
    "\n",
    "print \"R^2 for test set:\",\n",
    "print ridge1.score(X_test, y_test)\n",
    "\n",
    "print '-'*50\n",
    "\n",
    "print \"RSS: %.2f\" % np.sum((ridge1.predict(X_test) - y_test) ** 2)"
   ]
  },
  {
   "cell_type": "code",
   "execution_count": 175,
   "metadata": {
    "collapsed": false
   },
   "outputs": [
    {
     "data": {
      "text/plain": [
       "array([ 0.56928441,  0.55222504, -0.02263402,  0.07106148,  0.78005884,\n",
       "       -0.12959716,  0.06915147,  0.00415408])"
      ]
     },
     "execution_count": 175,
     "metadata": {},
     "output_type": "execute_result"
    }
   ],
   "source": [
    "ridge1.coef_"
   ]
  },
  {
   "cell_type": "code",
   "execution_count": 176,
   "metadata": {
    "collapsed": false
   },
   "outputs": [
    {
     "data": {
      "text/html": [
       "<div>\n",
       "<table border=\"1\" class=\"dataframe\">\n",
       "  <thead>\n",
       "    <tr style=\"text-align: right;\">\n",
       "      <th></th>\n",
       "      <th>coefficient</th>\n",
       "    </tr>\n",
       "  </thead>\n",
       "  <tbody>\n",
       "    <tr>\n",
       "      <th>lcavol</th>\n",
       "      <td>0.569284</td>\n",
       "    </tr>\n",
       "    <tr>\n",
       "      <th>lweight</th>\n",
       "      <td>0.552225</td>\n",
       "    </tr>\n",
       "    <tr>\n",
       "      <th>age</th>\n",
       "      <td>-0.022634</td>\n",
       "    </tr>\n",
       "    <tr>\n",
       "      <th>lbph</th>\n",
       "      <td>0.071061</td>\n",
       "    </tr>\n",
       "    <tr>\n",
       "      <th>svi</th>\n",
       "      <td>0.780059</td>\n",
       "    </tr>\n",
       "    <tr>\n",
       "      <th>lcp</th>\n",
       "      <td>-0.129597</td>\n",
       "    </tr>\n",
       "    <tr>\n",
       "      <th>gleason</th>\n",
       "      <td>0.069151</td>\n",
       "    </tr>\n",
       "    <tr>\n",
       "      <th>pgg45</th>\n",
       "      <td>0.004154</td>\n",
       "    </tr>\n",
       "    <tr>\n",
       "      <th>intercept</th>\n",
       "      <td>0.405359</td>\n",
       "    </tr>\n",
       "  </tbody>\n",
       "</table>\n",
       "</div>"
      ],
      "text/plain": [
       "           coefficient\n",
       "lcavol        0.569284\n",
       "lweight       0.552225\n",
       "age          -0.022634\n",
       "lbph          0.071061\n",
       "svi           0.780059\n",
       "lcp          -0.129597\n",
       "gleason       0.069151\n",
       "pgg45         0.004154\n",
       "intercept     0.405359"
      ]
     },
     "execution_count": 176,
     "metadata": {},
     "output_type": "execute_result"
    }
   ],
   "source": [
    "colnames = ['lcavol', 'lweight', 'age', 'lbph', 'svi', 'lcp', 'gleason', 'pgg45']\n",
    "result1 = pd.DataFrame(ridge1.coef_).transpose()\n",
    "result1.columns = colnames\n",
    "result1['intercept'] = ridge1.intercept_ \n",
    "result1 = result1.transpose()\n",
    "result1.columns = ['coefficient']\n",
    "result1"
   ]
  },
  {
   "cell_type": "code",
   "execution_count": 177,
   "metadata": {
    "collapsed": false
   },
   "outputs": [
    {
     "name": "stdout",
     "output_type": "stream",
     "text": [
      "R^2 for training set: 0.629815215247\n",
      "--------------------------------------------------\n",
      "R^2 for test set: 0.758109326274\n",
      "--------------------------------------------------\n",
      "RSS: 6.92\n"
     ]
    }
   ],
   "source": [
    "# fit the model\n",
    "ridge2 = Ridge(alpha=1.0)\n",
    "ridge2.fit(X_trainstd, y_trainctl)\n",
    "print \"R^2 for training set:\",\n",
    "print ridge2.score(X_trainstd, y_trainctl)\n",
    "\n",
    "print '-'*50\n",
    "\n",
    "print \"R^2 for test set:\",\n",
    "print ridge2.score(X_teststd, y_testctl)\n",
    "\n",
    "print '-'*50\n",
    "\n",
    "print \"RSS: %.2f\" % np.sum((ridge2.predict(X_teststd) - y_testctl) ** 2)"
   ]
  },
  {
   "cell_type": "code",
   "execution_count": 178,
   "metadata": {
    "collapsed": false
   },
   "outputs": [
    {
     "data": {
      "text/html": [
       "<div>\n",
       "<table border=\"1\" class=\"dataframe\">\n",
       "  <thead>\n",
       "    <tr style=\"text-align: right;\">\n",
       "      <th></th>\n",
       "      <th>coefficient</th>\n",
       "    </tr>\n",
       "  </thead>\n",
       "  <tbody>\n",
       "    <tr>\n",
       "      <th>lcavol</th>\n",
       "      <td>0.654348</td>\n",
       "    </tr>\n",
       "    <tr>\n",
       "      <th>lweight</th>\n",
       "      <td>0.237256</td>\n",
       "    </tr>\n",
       "    <tr>\n",
       "      <th>age</th>\n",
       "      <td>-0.161959</td>\n",
       "    </tr>\n",
       "    <tr>\n",
       "      <th>lbph</th>\n",
       "      <td>0.100990</td>\n",
       "    </tr>\n",
       "    <tr>\n",
       "      <th>svi</th>\n",
       "      <td>0.320171</td>\n",
       "    </tr>\n",
       "    <tr>\n",
       "      <th>lcp</th>\n",
       "      <td>-0.164235</td>\n",
       "    </tr>\n",
       "    <tr>\n",
       "      <th>gleason</th>\n",
       "      <td>0.050796</td>\n",
       "    </tr>\n",
       "    <tr>\n",
       "      <th>pgg45</th>\n",
       "      <td>0.109944</td>\n",
       "    </tr>\n",
       "    <tr>\n",
       "      <th>intercept</th>\n",
       "      <td>0.020865</td>\n",
       "    </tr>\n",
       "  </tbody>\n",
       "</table>\n",
       "</div>"
      ],
      "text/plain": [
       "           coefficient\n",
       "lcavol        0.654348\n",
       "lweight       0.237256\n",
       "age          -0.161959\n",
       "lbph          0.100990\n",
       "svi           0.320171\n",
       "lcp          -0.164235\n",
       "gleason       0.050796\n",
       "pgg45         0.109944\n",
       "intercept     0.020865"
      ]
     },
     "execution_count": 178,
     "metadata": {},
     "output_type": "execute_result"
    }
   ],
   "source": [
    "colnames = ['lcavol', 'lweight', 'age', 'lbph', 'svi', 'lcp', 'gleason', 'pgg45']\n",
    "result2 = pd.DataFrame(ridge2.coef_).transpose()\n",
    "result2.columns = colnames\n",
    "result2['intercept'] = ridge2.intercept_ \n",
    "result2 = result2.transpose()\n",
    "result2.columns = ['coefficient']\n",
    "result2"
   ]
  },
  {
   "cell_type": "code",
   "execution_count": 179,
   "metadata": {
    "collapsed": false
   },
   "outputs": [
    {
     "name": "stdout",
     "output_type": "stream",
     "text": [
      "GridSearchCV(cv=5, error_score='raise',\n",
      "       estimator=Lasso(alpha=1.0, copy_X=True, fit_intercept=True, max_iter=1000,\n",
      "   normalize=False, positive=False, precompute=False, random_state=None,\n",
      "   selection='cyclic', tol=0.0001, warm_start=False),\n",
      "       fit_params={}, iid=True, n_jobs=1,\n",
      "       param_grid={'alpha': array([  1.00000e+00,   1.00000e-01,   1.00000e-02,   1.00000e-03,\n",
      "         1.00000e-04,   0.00000e+00])},\n",
      "       pre_dispatch='2*n_jobs', refit=True, return_train_score=True,\n",
      "       scoring=None, verbose=0)\n",
      "0.435259527531\n",
      "0.01\n"
     ]
    }
   ],
   "source": [
    "# lasso model\n",
    "from sklearn.linear_model import Lasso\n",
    "#Grid Search Parameter Tuning\n",
    "# prepare a range of alpha values to test\n",
    "alphas = np.array([1,0.1,0.01,0.001,0.0001,0])\n",
    "# create and fit a lasso regression model, testing each alpha\n",
    "model3 = Lasso()\n",
    "grid3 = GridSearchCV(estimator=model3, param_grid=dict(alpha=alphas),cv=5)\n",
    "grid3.fit(X_train, y_train)\n",
    "print(grid3)\n",
    "# summarize the results of the grid search\n",
    "print(grid3.best_score_)\n",
    "print(grid3.best_estimator_.alpha)"
   ]
  },
  {
   "cell_type": "code",
   "execution_count": 186,
   "metadata": {
    "collapsed": false
   },
   "outputs": [
    {
     "name": "stdout",
     "output_type": "stream",
     "text": [
      "GridSearchCV(cv=5, error_score='raise',\n",
      "       estimator=Lasso(alpha=1.0, copy_X=True, fit_intercept=True, max_iter=1000,\n",
      "   normalize=False, positive=False, precompute=False, random_state=None,\n",
      "   selection='cyclic', tol=0.0001, warm_start=False),\n",
      "       fit_params={}, iid=True, n_jobs=1,\n",
      "       param_grid={'alpha': array([  1.00000e+00,   1.00000e-01,   1.00000e-02,   1.00000e-03,\n",
      "         1.00000e-04,   0.00000e+00])},\n",
      "       pre_dispatch='2*n_jobs', refit=True, return_train_score=True,\n",
      "       scoring=None, verbose=0)\n",
      "0.437597484705\n",
      "0.1\n"
     ]
    }
   ],
   "source": [
    "# lasso model\n",
    "from sklearn.linear_model import Lasso\n",
    "#Grid Search Parameter Tuning\n",
    "# prepare a range of alpha values to test\n",
    "alphas = np.array([1,0.1,0.01,0.001,0.0001,0])\n",
    "# create and fit a lasso regression model, testing each alpha\n",
    "model4 = Lasso()\n",
    "grid4 = GridSearchCV(estimator=model4, param_grid=dict(alpha=alphas), cv=5)\n",
    "grid4.fit(X_trainstd, y_trainctl)\n",
    "print(grid4)\n",
    "# summarize the results of the grid search\n",
    "print(grid4.best_score_)\n",
    "print(grid4.best_estimator_.alpha)"
   ]
  },
  {
   "cell_type": "code",
   "execution_count": 187,
   "metadata": {
    "collapsed": false
   },
   "outputs": [
    {
     "name": "stdout",
     "output_type": "stream",
     "text": [
      "R^2 for training set: 0.627625020466\n",
      "--------------------------------------------------\n",
      "R^2 for test set: 0.756182139353\n",
      "--------------------------------------------------\n",
      "RSS: 6.98\n"
     ]
    }
   ],
   "source": [
    "# fit the model\n",
    "lasso1 = Lasso(alpha=0.01)\n",
    "lasso1.fit(X_train, y_train)\n",
    "print \"R^2 for training set:\",\n",
    "print lasso1.score(X_train, y_train)\n",
    "\n",
    "print '-'*50\n",
    "\n",
    "print \"R^2 for test set:\",\n",
    "print lasso1.score(X_test, y_test)\n",
    "\n",
    "print '-'*50\n",
    "\n",
    "print \"RSS: %.2f\" % np.sum((lasso1.predict(X_test) - y_test) ** 2)"
   ]
  },
  {
   "cell_type": "code",
   "execution_count": 188,
   "metadata": {
    "collapsed": false
   },
   "outputs": [
    {
     "data": {
      "text/html": [
       "<div>\n",
       "<table border=\"1\" class=\"dataframe\">\n",
       "  <thead>\n",
       "    <tr style=\"text-align: right;\">\n",
       "      <th></th>\n",
       "      <th>coefficient</th>\n",
       "    </tr>\n",
       "  </thead>\n",
       "  <tbody>\n",
       "    <tr>\n",
       "      <th>lcavol</th>\n",
       "      <td>0.566727</td>\n",
       "    </tr>\n",
       "    <tr>\n",
       "      <th>lweight</th>\n",
       "      <td>0.499849</td>\n",
       "    </tr>\n",
       "    <tr>\n",
       "      <th>age</th>\n",
       "      <td>-0.019827</td>\n",
       "    </tr>\n",
       "    <tr>\n",
       "      <th>lbph</th>\n",
       "      <td>0.069023</td>\n",
       "    </tr>\n",
       "    <tr>\n",
       "      <th>svi</th>\n",
       "      <td>0.660666</td>\n",
       "    </tr>\n",
       "    <tr>\n",
       "      <th>lcp</th>\n",
       "      <td>-0.088302</td>\n",
       "    </tr>\n",
       "    <tr>\n",
       "      <th>gleason</th>\n",
       "      <td>0.000000</td>\n",
       "    </tr>\n",
       "    <tr>\n",
       "      <th>pgg45</th>\n",
       "      <td>0.004676</td>\n",
       "    </tr>\n",
       "    <tr>\n",
       "      <th>intercept</th>\n",
       "      <td>0.906338</td>\n",
       "    </tr>\n",
       "  </tbody>\n",
       "</table>\n",
       "</div>"
      ],
      "text/plain": [
       "           coefficient\n",
       "lcavol        0.566727\n",
       "lweight       0.499849\n",
       "age          -0.019827\n",
       "lbph          0.069023\n",
       "svi           0.660666\n",
       "lcp          -0.088302\n",
       "gleason       0.000000\n",
       "pgg45         0.004676\n",
       "intercept     0.906338"
      ]
     },
     "execution_count": 188,
     "metadata": {},
     "output_type": "execute_result"
    }
   ],
   "source": [
    "colnames = ['lcavol', 'lweight', 'age', 'lbph', 'svi', 'lcp', 'gleason', 'pgg45']\n",
    "result3 = pd.DataFrame(lasso1.coef_).transpose()\n",
    "result3.columns = colnames\n",
    "result3['intercept'] = lasso1.intercept_ \n",
    "result3 = result3.transpose()\n",
    "result3.columns = ['coefficient']\n",
    "result3"
   ]
  },
  {
   "cell_type": "code",
   "execution_count": 189,
   "metadata": {
    "collapsed": true
   },
   "outputs": [],
   "source": [
    "# shrink the coefficients of gleason to 0"
   ]
  },
  {
   "cell_type": "code",
   "execution_count": 190,
   "metadata": {
    "collapsed": false
   },
   "outputs": [
    {
     "name": "stdout",
     "output_type": "stream",
     "text": [
      "R^2 for training set: 0.590395701258\n",
      "--------------------------------------------------\n",
      "R^2 for test set: 0.687950325307\n",
      "--------------------------------------------------\n",
      "RSS: 8.93\n"
     ]
    }
   ],
   "source": [
    "# fit the model\n",
    "lasso2 = Lasso(alpha=0.1)\n",
    "lasso2.fit(X_trainstd, y_trainctl)\n",
    "print \"R^2 for training set:\",\n",
    "print lasso2.score(X_trainstd, y_trainctl)\n",
    "\n",
    "print '-'*50\n",
    "\n",
    "print \"R^2 for test set:\",\n",
    "print lasso2.score(X_teststd, y_testctl)\n",
    "\n",
    "print '-'*50\n",
    "\n",
    "print \"RSS: %.2f\" % np.sum((lasso2.predict(X_teststd) - y_testctl) ** 2)"
   ]
  },
  {
   "cell_type": "code",
   "execution_count": 185,
   "metadata": {
    "collapsed": false
   },
   "outputs": [
    {
     "data": {
      "text/html": [
       "<div>\n",
       "<table border=\"1\" class=\"dataframe\">\n",
       "  <thead>\n",
       "    <tr style=\"text-align: right;\">\n",
       "      <th></th>\n",
       "      <th>coefficient</th>\n",
       "    </tr>\n",
       "  </thead>\n",
       "  <tbody>\n",
       "    <tr>\n",
       "      <th>lcavol</th>\n",
       "      <td>0.562257</td>\n",
       "    </tr>\n",
       "    <tr>\n",
       "      <th>lweight</th>\n",
       "      <td>0.178074</td>\n",
       "    </tr>\n",
       "    <tr>\n",
       "      <th>age</th>\n",
       "      <td>-0.000000</td>\n",
       "    </tr>\n",
       "    <tr>\n",
       "      <th>lbph</th>\n",
       "      <td>0.000000</td>\n",
       "    </tr>\n",
       "    <tr>\n",
       "      <th>svi</th>\n",
       "      <td>0.202819</td>\n",
       "    </tr>\n",
       "    <tr>\n",
       "      <th>lcp</th>\n",
       "      <td>0.000000</td>\n",
       "    </tr>\n",
       "    <tr>\n",
       "      <th>gleason</th>\n",
       "      <td>0.000000</td>\n",
       "    </tr>\n",
       "    <tr>\n",
       "      <th>pgg45</th>\n",
       "      <td>0.000000</td>\n",
       "    </tr>\n",
       "    <tr>\n",
       "      <th>intercept</th>\n",
       "      <td>0.008080</td>\n",
       "    </tr>\n",
       "  </tbody>\n",
       "</table>\n",
       "</div>"
      ],
      "text/plain": [
       "           coefficient\n",
       "lcavol        0.562257\n",
       "lweight       0.178074\n",
       "age          -0.000000\n",
       "lbph          0.000000\n",
       "svi           0.202819\n",
       "lcp           0.000000\n",
       "gleason       0.000000\n",
       "pgg45         0.000000\n",
       "intercept     0.008080"
      ]
     },
     "execution_count": 185,
     "metadata": {},
     "output_type": "execute_result"
    }
   ],
   "source": [
    "colnames = ['lcavol', 'lweight', 'age', 'lbph', 'svi', 'lcp', 'gleason', 'pgg45']\n",
    "result4 = pd.DataFrame(lasso2.coef_).transpose()\n",
    "result4.columns = colnames\n",
    "result4['intercept'] = lasso2.intercept_ \n",
    "result4 = result4.transpose()\n",
    "result4.columns = ['coefficient']\n",
    "result4"
   ]
  },
  {
   "cell_type": "code",
   "execution_count": 11,
   "metadata": {
    "collapsed": true
   },
   "outputs": [],
   "source": [
    "# shrink some coefficients of age, lbph,lcp, gleason, pgg45 to 0"
   ]
  },
  {
   "cell_type": "code",
   "execution_count": null,
   "metadata": {
    "collapsed": true
   },
   "outputs": [],
   "source": []
  }
 ],
 "metadata": {
  "kernelspec": {
   "display_name": "Python 2",
   "language": "python",
   "name": "python2"
  },
  "language_info": {
   "codemirror_mode": {
    "name": "ipython",
    "version": 2
   },
   "file_extension": ".py",
   "mimetype": "text/x-python",
   "name": "python",
   "nbconvert_exporter": "python",
   "pygments_lexer": "ipython2",
   "version": "2.7.11"
  }
 },
 "nbformat": 4,
 "nbformat_minor": 0
}
