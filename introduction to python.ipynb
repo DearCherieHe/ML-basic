{
 "cells": [
  {
   "cell_type": "code",
   "execution_count": 1,
   "metadata": {
    "collapsed": false
   },
   "outputs": [
    {
     "name": "stdout",
     "output_type": "stream",
     "text": [
      "Hello World!\n"
     ]
    }
   ],
   "source": [
    "print ('Hello World!')"
   ]
  },
  {
   "cell_type": "code",
   "execution_count": 2,
   "metadata": {
    "collapsed": false
   },
   "outputs": [
    {
     "data": {
      "text/plain": [
       "2"
      ]
     },
     "execution_count": 2,
     "metadata": {},
     "output_type": "execute_result"
    }
   ],
   "source": [
    "1+1 # comment"
   ]
  },
  {
   "cell_type": "code",
   "execution_count": 3,
   "metadata": {
    "collapsed": false
   },
   "outputs": [
    {
     "data": {
      "text/plain": [
       "2"
      ]
     },
     "execution_count": 3,
     "metadata": {},
     "output_type": "execute_result"
    }
   ],
   "source": [
    "5/2"
   ]
  },
  {
   "cell_type": "code",
   "execution_count": 4,
   "metadata": {
    "collapsed": false
   },
   "outputs": [
    {
     "data": {
      "text/plain": [
       "2.5"
      ]
     },
     "execution_count": 4,
     "metadata": {},
     "output_type": "execute_result"
    }
   ],
   "source": [
    "5/2.0"
   ]
  },
  {
   "cell_type": "code",
   "execution_count": 5,
   "metadata": {
    "collapsed": false
   },
   "outputs": [
    {
     "data": {
      "text/plain": [
       "2.5"
      ]
     },
     "execution_count": 5,
     "metadata": {},
     "output_type": "execute_result"
    }
   ],
   "source": [
    "5.0/2"
   ]
  },
  {
   "cell_type": "code",
   "execution_count": 6,
   "metadata": {
    "collapsed": false
   },
   "outputs": [
    {
     "data": {
      "text/plain": [
       "2"
      ]
     },
     "execution_count": 6,
     "metadata": {},
     "output_type": "execute_result"
    }
   ],
   "source": [
    "5//2"
   ]
  },
  {
   "cell_type": "code",
   "execution_count": 7,
   "metadata": {
    "collapsed": false
   },
   "outputs": [
    {
     "data": {
      "text/plain": [
       "2.0"
      ]
     },
     "execution_count": 7,
     "metadata": {},
     "output_type": "execute_result"
    }
   ],
   "source": [
    "5//2.0"
   ]
  },
  {
   "cell_type": "code",
   "execution_count": 8,
   "metadata": {
    "collapsed": false
   },
   "outputs": [
    {
     "data": {
      "text/plain": [
       "1"
      ]
     },
     "execution_count": 8,
     "metadata": {},
     "output_type": "execute_result"
    }
   ],
   "source": [
    "5%2"
   ]
  },
  {
   "cell_type": "code",
   "execution_count": 9,
   "metadata": {
    "collapsed": false
   },
   "outputs": [
    {
     "data": {
      "text/plain": [
       "3.141592653589793"
      ]
     },
     "execution_count": 9,
     "metadata": {},
     "output_type": "execute_result"
    }
   ],
   "source": [
    "import math\n",
    "math.pi"
   ]
  },
  {
   "cell_type": "code",
   "execution_count": 10,
   "metadata": {
    "collapsed": false
   },
   "outputs": [],
   "source": [
    "radius=2\n",
    "area=radius**2*math.pi #^"
   ]
  },
  {
   "cell_type": "code",
   "execution_count": 11,
   "metadata": {
    "collapsed": false
   },
   "outputs": [
    {
     "data": {
      "text/plain": [
       "12.566370614359172"
      ]
     },
     "execution_count": 11,
     "metadata": {},
     "output_type": "execute_result"
    }
   ],
   "source": [
    "area"
   ]
  },
  {
   "cell_type": "code",
   "execution_count": 12,
   "metadata": {
    "collapsed": false
   },
   "outputs": [
    {
     "data": {
      "text/plain": [
       "50.26548245743669"
      ]
     },
     "execution_count": 12,
     "metadata": {},
     "output_type": "execute_result"
    }
   ],
   "source": [
    "radius=4\n",
    "area=radius**2*math.pi\n",
    "area"
   ]
  },
  {
   "cell_type": "code",
   "execution_count": 13,
   "metadata": {
    "collapsed": true
   },
   "outputs": [],
   "source": [
    "def area1(x):\n",
    "    return math.pi*(x**2)"
   ]
  },
  {
   "cell_type": "code",
   "execution_count": 14,
   "metadata": {
    "collapsed": false
   },
   "outputs": [
    {
     "data": {
      "text/plain": [
       "12.566370614359172"
      ]
     },
     "execution_count": 14,
     "metadata": {},
     "output_type": "execute_result"
    }
   ],
   "source": [
    "area1(2)"
   ]
  },
  {
   "cell_type": "code",
   "execution_count": 15,
   "metadata": {
    "collapsed": false
   },
   "outputs": [
    {
     "data": {
      "text/plain": [
       "50.26548245743669"
      ]
     },
     "execution_count": 15,
     "metadata": {},
     "output_type": "execute_result"
    }
   ],
   "source": [
    "area1(4)"
   ]
  },
  {
   "cell_type": "code",
   "execution_count": 16,
   "metadata": {
    "collapsed": false
   },
   "outputs": [],
   "source": [
    "area2=lambda x: math.pi*(x**2)"
   ]
  },
  {
   "cell_type": "code",
   "execution_count": 17,
   "metadata": {
    "collapsed": false
   },
   "outputs": [
    {
     "data": {
      "text/plain": [
       "12.566370614359172"
      ]
     },
     "execution_count": 17,
     "metadata": {},
     "output_type": "execute_result"
    }
   ],
   "source": [
    "area2(2)"
   ]
  },
  {
   "cell_type": "code",
   "execution_count": 18,
   "metadata": {
    "collapsed": false
   },
   "outputs": [
    {
     "data": {
      "text/plain": [
       "1"
      ]
     },
     "execution_count": 18,
     "metadata": {},
     "output_type": "execute_result"
    }
   ],
   "source": [
    "x=1\n",
    "x"
   ]
  },
  {
   "cell_type": "code",
   "execution_count": 19,
   "metadata": {
    "collapsed": false
   },
   "outputs": [
    {
     "data": {
      "text/plain": [
       "int"
      ]
     },
     "execution_count": 19,
     "metadata": {},
     "output_type": "execute_result"
    }
   ],
   "source": [
    "type(x)"
   ]
  },
  {
   "cell_type": "code",
   "execution_count": 20,
   "metadata": {
    "collapsed": false
   },
   "outputs": [
    {
     "data": {
      "text/plain": [
       "1.0"
      ]
     },
     "execution_count": 20,
     "metadata": {},
     "output_type": "execute_result"
    }
   ],
   "source": [
    "x=1.0\n",
    "x"
   ]
  },
  {
   "cell_type": "code",
   "execution_count": 21,
   "metadata": {
    "collapsed": false
   },
   "outputs": [
    {
     "data": {
      "text/plain": [
       "float"
      ]
     },
     "execution_count": 21,
     "metadata": {},
     "output_type": "execute_result"
    }
   ],
   "source": [
    "type(x)"
   ]
  },
  {
   "cell_type": "code",
   "execution_count": 22,
   "metadata": {
    "collapsed": false
   },
   "outputs": [
    {
     "data": {
      "text/plain": [
       "'hello'"
      ]
     },
     "execution_count": 22,
     "metadata": {},
     "output_type": "execute_result"
    }
   ],
   "source": [
    "x='hello'\n",
    "x"
   ]
  },
  {
   "cell_type": "code",
   "execution_count": 23,
   "metadata": {
    "collapsed": false
   },
   "outputs": [
    {
     "data": {
      "text/plain": [
       "str"
      ]
     },
     "execution_count": 23,
     "metadata": {},
     "output_type": "execute_result"
    }
   ],
   "source": [
    "type(x)"
   ]
  },
  {
   "cell_type": "code",
   "execution_count": 24,
   "metadata": {
    "collapsed": false
   },
   "outputs": [
    {
     "data": {
      "text/plain": [
       "True"
      ]
     },
     "execution_count": 24,
     "metadata": {},
     "output_type": "execute_result"
    }
   ],
   "source": [
    "x=True\n",
    "x"
   ]
  },
  {
   "cell_type": "code",
   "execution_count": 25,
   "metadata": {
    "collapsed": false
   },
   "outputs": [
    {
     "data": {
      "text/plain": [
       "bool"
      ]
     },
     "execution_count": 25,
     "metadata": {},
     "output_type": "execute_result"
    }
   ],
   "source": [
    "type(x)"
   ]
  },
  {
   "cell_type": "code",
   "execution_count": 26,
   "metadata": {
    "collapsed": false
   },
   "outputs": [
    {
     "data": {
      "text/plain": [
       "[1, 2, 3, 4]"
      ]
     },
     "execution_count": 26,
     "metadata": {},
     "output_type": "execute_result"
    }
   ],
   "source": [
    "x=[1,2,3,4]\n",
    "x"
   ]
  },
  {
   "cell_type": "code",
   "execution_count": 27,
   "metadata": {
    "collapsed": false
   },
   "outputs": [
    {
     "data": {
      "text/plain": [
       "list"
      ]
     },
     "execution_count": 27,
     "metadata": {},
     "output_type": "execute_result"
    }
   ],
   "source": [
    "type(x)"
   ]
  },
  {
   "cell_type": "code",
   "execution_count": 35,
   "metadata": {
    "collapsed": false
   },
   "outputs": [
    {
     "data": {
      "text/plain": [
       "['a', 'b', 'c', 'd']"
      ]
     },
     "execution_count": 35,
     "metadata": {},
     "output_type": "execute_result"
    }
   ],
   "source": [
    "x=['a', 'b', 'c', 'd']\n",
    "x"
   ]
  },
  {
   "cell_type": "code",
   "execution_count": 36,
   "metadata": {
    "collapsed": false
   },
   "outputs": [
    {
     "data": {
      "text/plain": [
       "4"
      ]
     },
     "execution_count": 36,
     "metadata": {},
     "output_type": "execute_result"
    }
   ],
   "source": [
    "len(x)"
   ]
  },
  {
   "cell_type": "code",
   "execution_count": 29,
   "metadata": {
    "collapsed": true
   },
   "outputs": [],
   "source": [
    "x=['a', 1]"
   ]
  },
  {
   "cell_type": "code",
   "execution_count": 30,
   "metadata": {
    "collapsed": false
   },
   "outputs": [
    {
     "data": {
      "text/plain": [
       "['a', 1]"
      ]
     },
     "execution_count": 30,
     "metadata": {},
     "output_type": "execute_result"
    }
   ],
   "source": [
    "x"
   ]
  },
  {
   "cell_type": "code",
   "execution_count": 33,
   "metadata": {
    "collapsed": false
   },
   "outputs": [
    {
     "data": {
      "text/plain": [
       "int"
      ]
     },
     "execution_count": 33,
     "metadata": {},
     "output_type": "execute_result"
    }
   ],
   "source": [
    "type(x)"
   ]
  },
  {
   "cell_type": "code",
   "execution_count": 31,
   "metadata": {
    "collapsed": false
   },
   "outputs": [
    {
     "data": {
      "text/plain": [
       "[str, int]"
      ]
     },
     "execution_count": 31,
     "metadata": {},
     "output_type": "execute_result"
    }
   ],
   "source": [
    "[type(x) for x in x]"
   ]
  },
  {
   "cell_type": "code",
   "execution_count": 37,
   "metadata": {
    "collapsed": false
   },
   "outputs": [
    {
     "data": {
      "text/plain": [
       "[0, 1, 2, 3]"
      ]
     },
     "execution_count": 37,
     "metadata": {},
     "output_type": "execute_result"
    }
   ],
   "source": [
    "range(4)"
   ]
  },
  {
   "cell_type": "code",
   "execution_count": 38,
   "metadata": {
    "collapsed": false
   },
   "outputs": [
    {
     "data": {
      "text/plain": [
       "[0, 1, 2, 3]"
      ]
     },
     "execution_count": 38,
     "metadata": {},
     "output_type": "execute_result"
    }
   ],
   "source": [
    "range(0,4)"
   ]
  },
  {
   "cell_type": "code",
   "execution_count": 39,
   "metadata": {
    "collapsed": false
   },
   "outputs": [
    {
     "data": {
      "text/plain": [
       "[1, 2, 3, 4]"
      ]
     },
     "execution_count": 39,
     "metadata": {},
     "output_type": "execute_result"
    }
   ],
   "source": [
    "range(1, 5, 1)"
   ]
  },
  {
   "cell_type": "code",
   "execution_count": 40,
   "metadata": {
    "collapsed": false
   },
   "outputs": [
    {
     "data": {
      "text/plain": [
       "[1, 3]"
      ]
     },
     "execution_count": 40,
     "metadata": {},
     "output_type": "execute_result"
    }
   ],
   "source": [
    "range(1,5,2)"
   ]
  },
  {
   "cell_type": "code",
   "execution_count": 41,
   "metadata": {
    "collapsed": false
   },
   "outputs": [
    {
     "data": {
      "text/plain": [
       "[5, 4, 3, 2]"
      ]
     },
     "execution_count": 41,
     "metadata": {},
     "output_type": "execute_result"
    }
   ],
   "source": [
    "range(5, 1, -1)"
   ]
  },
  {
   "cell_type": "code",
   "execution_count": 42,
   "metadata": {
    "collapsed": false
   },
   "outputs": [
    {
     "data": {
      "text/plain": [
       "[5, 3]"
      ]
     },
     "execution_count": 42,
     "metadata": {},
     "output_type": "execute_result"
    }
   ],
   "source": [
    "range(5,1,-2)"
   ]
  },
  {
   "cell_type": "code",
   "execution_count": 65,
   "metadata": {
    "collapsed": false
   },
   "outputs": [
    {
     "data": {
      "text/plain": [
       "[0, 1, 2, 3]"
      ]
     },
     "execution_count": 65,
     "metadata": {},
     "output_type": "execute_result"
    }
   ],
   "source": [
    "num=range(4)\n",
    "num"
   ]
  },
  {
   "cell_type": "code",
   "execution_count": 44,
   "metadata": {
    "collapsed": false
   },
   "outputs": [
    {
     "data": {
      "text/plain": [
       "[0, 1, 2, 3, 4]"
      ]
     },
     "execution_count": 44,
     "metadata": {},
     "output_type": "execute_result"
    }
   ],
   "source": [
    "num+[4]"
   ]
  },
  {
   "cell_type": "code",
   "execution_count": 45,
   "metadata": {
    "collapsed": false
   },
   "outputs": [
    {
     "data": {
      "text/plain": [
       "[0, 1, 2, 3]"
      ]
     },
     "execution_count": 45,
     "metadata": {},
     "output_type": "execute_result"
    }
   ],
   "source": [
    "num"
   ]
  },
  {
   "cell_type": "code",
   "execution_count": 46,
   "metadata": {
    "collapsed": false
   },
   "outputs": [
    {
     "data": {
      "text/plain": [
       "6"
      ]
     },
     "execution_count": 46,
     "metadata": {},
     "output_type": "execute_result"
    }
   ],
   "source": [
    "sum(num) "
   ]
  },
  {
   "cell_type": "code",
   "execution_count": 47,
   "metadata": {
    "collapsed": false
   },
   "outputs": [
    {
     "data": {
      "text/plain": [
       "0"
      ]
     },
     "execution_count": 47,
     "metadata": {},
     "output_type": "execute_result"
    }
   ],
   "source": [
    "num[0]"
   ]
  },
  {
   "cell_type": "code",
   "execution_count": 48,
   "metadata": {
    "collapsed": false
   },
   "outputs": [
    {
     "data": {
      "text/plain": [
       "3"
      ]
     },
     "execution_count": 48,
     "metadata": {},
     "output_type": "execute_result"
    }
   ],
   "source": [
    "num[len(num)-1]"
   ]
  },
  {
   "cell_type": "code",
   "execution_count": 49,
   "metadata": {
    "collapsed": false
   },
   "outputs": [
    {
     "data": {
      "text/plain": [
       "3"
      ]
     },
     "execution_count": 49,
     "metadata": {},
     "output_type": "execute_result"
    }
   ],
   "source": [
    "num[-1]"
   ]
  },
  {
   "cell_type": "code",
   "execution_count": 50,
   "metadata": {
    "collapsed": false
   },
   "outputs": [
    {
     "data": {
      "text/plain": [
       "[0, 1]"
      ]
     },
     "execution_count": 50,
     "metadata": {},
     "output_type": "execute_result"
    }
   ],
   "source": [
    "num[:2]"
   ]
  },
  {
   "cell_type": "code",
   "execution_count": 51,
   "metadata": {
    "collapsed": false
   },
   "outputs": [
    {
     "data": {
      "text/plain": [
       "[0, 1]"
      ]
     },
     "execution_count": 51,
     "metadata": {},
     "output_type": "execute_result"
    }
   ],
   "source": [
    "num[0:2]"
   ]
  },
  {
   "cell_type": "code",
   "execution_count": 52,
   "metadata": {
    "collapsed": false
   },
   "outputs": [
    {
     "data": {
      "text/plain": [
       "[1, 2]"
      ]
     },
     "execution_count": 52,
     "metadata": {},
     "output_type": "execute_result"
    }
   ],
   "source": [
    "num[1:3]"
   ]
  },
  {
   "cell_type": "code",
   "execution_count": 63,
   "metadata": {
    "collapsed": true
   },
   "outputs": [],
   "source": [
    "#select multiple elements"
   ]
  },
  {
   "cell_type": "code",
   "execution_count": 56,
   "metadata": {
    "collapsed": false
   },
   "outputs": [
    {
     "data": {
      "text/plain": [
       "[1, 3]"
      ]
     },
     "execution_count": 56,
     "metadata": {},
     "output_type": "execute_result"
    }
   ],
   "source": [
    "from operator import itemgetter\n",
    "index=[1,3]\n",
    "list(itemgetter(*index)(num))"
   ]
  },
  {
   "cell_type": "code",
   "execution_count": 66,
   "metadata": {
    "collapsed": false
   },
   "outputs": [
    {
     "data": {
      "text/plain": [
       "[1, 3]"
      ]
     },
     "execution_count": 66,
     "metadata": {},
     "output_type": "execute_result"
    }
   ],
   "source": [
    "import numpy as np\n",
    "num1=np.array(num)\n",
    "list(num1[index])"
   ]
  },
  {
   "cell_type": "code",
   "execution_count": 67,
   "metadata": {
    "collapsed": false
   },
   "outputs": [
    {
     "data": {
      "text/plain": [
       "1"
      ]
     },
     "execution_count": 67,
     "metadata": {},
     "output_type": "execute_result"
    }
   ],
   "source": [
    "num[num>0] # wrong"
   ]
  },
  {
   "cell_type": "code",
   "execution_count": 68,
   "metadata": {
    "collapsed": false
   },
   "outputs": [
    {
     "data": {
      "text/plain": [
       "array([1, 2, 3])"
      ]
     },
     "execution_count": 68,
     "metadata": {},
     "output_type": "execute_result"
    }
   ],
   "source": [
    "num1[num1>0]"
   ]
  },
  {
   "cell_type": "code",
   "execution_count": 69,
   "metadata": {
    "collapsed": false
   },
   "outputs": [
    {
     "data": {
      "text/plain": [
       "[1, 2, 3]"
      ]
     },
     "execution_count": 69,
     "metadata": {},
     "output_type": "execute_result"
    }
   ],
   "source": [
    "filter(lambda x:x>0, num) # list selection"
   ]
  },
  {
   "cell_type": "code",
   "execution_count": 70,
   "metadata": {
    "collapsed": false
   },
   "outputs": [
    {
     "data": {
      "text/plain": [
       "[0, 1, 2, 3]"
      ]
     },
     "execution_count": 70,
     "metadata": {},
     "output_type": "execute_result"
    }
   ],
   "source": [
    "num"
   ]
  },
  {
   "cell_type": "code",
   "execution_count": 71,
   "metadata": {
    "collapsed": false
   },
   "outputs": [
    {
     "data": {
      "text/plain": [
       "[0, 1, 4, 9]"
      ]
     },
     "execution_count": 71,
     "metadata": {},
     "output_type": "execute_result"
    }
   ],
   "source": [
    "map(lambda x: x**2, num) # list computation"
   ]
  },
  {
   "cell_type": "code",
   "execution_count": 72,
   "metadata": {
    "collapsed": false
   },
   "outputs": [
    {
     "data": {
      "text/plain": [
       "[1, 2, 3]"
      ]
     },
     "execution_count": 72,
     "metadata": {},
     "output_type": "execute_result"
    }
   ],
   "source": [
    "[x for x in num if x>0]"
   ]
  },
  {
   "cell_type": "code",
   "execution_count": 73,
   "metadata": {
    "collapsed": false
   },
   "outputs": [
    {
     "data": {
      "text/plain": [
       "[0, 1, 4, 9]"
      ]
     },
     "execution_count": 73,
     "metadata": {},
     "output_type": "execute_result"
    }
   ],
   "source": [
    "[x**2 for x in num]"
   ]
  },
  {
   "cell_type": "code",
   "execution_count": 157,
   "metadata": {
    "collapsed": true
   },
   "outputs": [],
   "source": [
    "# two list difference\n",
    "temp1 = ['One', 'Two', 'Three', 'Four']\n",
    "temp2 = ['One', 'Two']"
   ]
  },
  {
   "cell_type": "code",
   "execution_count": 159,
   "metadata": {
    "collapsed": false
   },
   "outputs": [
    {
     "data": {
      "text/plain": [
       "['Three', 'Four']"
      ]
     },
     "execution_count": 159,
     "metadata": {},
     "output_type": "execute_result"
    }
   ],
   "source": [
    "[x for x in temp1 if x not in temp2]"
   ]
  },
  {
   "cell_type": "code",
   "execution_count": 74,
   "metadata": {
    "collapsed": false
   },
   "outputs": [
    {
     "data": {
      "text/plain": [
       "[0, 1, 2, 3, 1, 2, 3, 4]"
      ]
     },
     "execution_count": 74,
     "metadata": {},
     "output_type": "execute_result"
    }
   ],
   "source": [
    "range(4)+range(1,5)"
   ]
  },
  {
   "cell_type": "code",
   "execution_count": 75,
   "metadata": {
    "collapsed": false
   },
   "outputs": [
    {
     "data": {
      "text/plain": [
       "[1, 3, 5, 7]"
      ]
     },
     "execution_count": 75,
     "metadata": {},
     "output_type": "execute_result"
    }
   ],
   "source": [
    "map(lambda x, y: x+y, range(4), range(1,5))"
   ]
  },
  {
   "cell_type": "code",
   "execution_count": 76,
   "metadata": {
    "collapsed": false
   },
   "outputs": [
    {
     "data": {
      "text/plain": [
       "[(0, 1), (1, 2), (2, 3), (3, 4)]"
      ]
     },
     "execution_count": 76,
     "metadata": {},
     "output_type": "execute_result"
    }
   ],
   "source": [
    "zip(range(4), range(1,5)) # tuple"
   ]
  },
  {
   "cell_type": "code",
   "execution_count": 77,
   "metadata": {
    "collapsed": false
   },
   "outputs": [
    {
     "name": "stdout",
     "output_type": "stream",
     "text": [
      "x is positive\n"
     ]
    }
   ],
   "source": [
    "x=1\n",
    "if x>0:\n",
    "    print \"x is positive\"\n",
    "#elif:\n",
    "else:\n",
    "    if x==0:\n",
    "        print 'x is zero'\n",
    "    else: \n",
    "        print'x is negative'"
   ]
  },
  {
   "cell_type": "code",
   "execution_count": 156,
   "metadata": {
    "collapsed": false
   },
   "outputs": [
    {
     "name": "stdout",
     "output_type": "stream",
     "text": [
      "Joe is 42 years old\n"
     ]
    }
   ],
   "source": [
    "# %s is used as a placeholder for string values you want to inject into a formatted string.\n",
    "# %d is used as a placeholder for numeric or decimal values.\n",
    "print ('%s is %d years old' % ('Joe', 42))"
   ]
  },
  {
   "cell_type": "code",
   "execution_count": 155,
   "metadata": {
    "collapsed": false
   },
   "outputs": [
    {
     "name": "stdout",
     "output_type": "stream",
     "text": [
      "-1 is negative\n"
     ]
    }
   ],
   "source": [
    "x=-1\n",
    "if x>0:\n",
    "    print (\"%s is positive\" % (x))\n",
    "elif x==0:\n",
    "    print ('%s is zero' %(x))\n",
    "else: \n",
    "    print ('%s is negative' % (x))"
   ]
  },
  {
   "cell_type": "code",
   "execution_count": 79,
   "metadata": {
    "collapsed": true
   },
   "outputs": [],
   "source": [
    "s=' i am happy '"
   ]
  },
  {
   "cell_type": "code",
   "execution_count": 80,
   "metadata": {
    "collapsed": false
   },
   "outputs": [
    {
     "data": {
      "text/plain": [
       "'i am happy'"
      ]
     },
     "execution_count": 80,
     "metadata": {},
     "output_type": "execute_result"
    }
   ],
   "source": [
    "s.strip()"
   ]
  },
  {
   "cell_type": "code",
   "execution_count": 81,
   "metadata": {
    "collapsed": false
   },
   "outputs": [
    {
     "data": {
      "text/plain": [
       "' i am happy '"
      ]
     },
     "execution_count": 81,
     "metadata": {},
     "output_type": "execute_result"
    }
   ],
   "source": [
    "s"
   ]
  },
  {
   "cell_type": "code",
   "execution_count": 82,
   "metadata": {
    "collapsed": false
   },
   "outputs": [
    {
     "data": {
      "text/plain": [
       "['i', 'am', 'happy']"
      ]
     },
     "execution_count": 82,
     "metadata": {},
     "output_type": "execute_result"
    }
   ],
   "source": [
    "s.split()"
   ]
  },
  {
   "cell_type": "code",
   "execution_count": 83,
   "metadata": {
    "collapsed": true
   },
   "outputs": [],
   "source": [
    "s1='i,am,happy'"
   ]
  },
  {
   "cell_type": "code",
   "execution_count": 84,
   "metadata": {
    "collapsed": false
   },
   "outputs": [
    {
     "data": {
      "text/plain": [
       "['i', 'am', 'happy']"
      ]
     },
     "execution_count": 84,
     "metadata": {},
     "output_type": "execute_result"
    }
   ],
   "source": [
    "s1.split(',')"
   ]
  },
  {
   "cell_type": "code",
   "execution_count": 85,
   "metadata": {
    "collapsed": true
   },
   "outputs": [],
   "source": [
    "l=['i', 'am', 'happy']"
   ]
  },
  {
   "cell_type": "code",
   "execution_count": 86,
   "metadata": {
    "collapsed": false
   },
   "outputs": [
    {
     "data": {
      "text/plain": [
       "'i am happy'"
      ]
     },
     "execution_count": 86,
     "metadata": {},
     "output_type": "execute_result"
    }
   ],
   "source": [
    "' '.join(l)"
   ]
  },
  {
   "cell_type": "code",
   "execution_count": 87,
   "metadata": {
    "collapsed": false
   },
   "outputs": [
    {
     "data": {
      "text/plain": [
       "' i was happy '"
      ]
     },
     "execution_count": 87,
     "metadata": {},
     "output_type": "execute_result"
    }
   ],
   "source": [
    "s.replace('am', 'was')"
   ]
  },
  {
   "cell_type": "code",
   "execution_count": 88,
   "metadata": {
    "collapsed": false
   },
   "outputs": [
    {
     "data": {
      "text/plain": [
       "' i am happy '"
      ]
     },
     "execution_count": 88,
     "metadata": {},
     "output_type": "execute_result"
    }
   ],
   "source": [
    "s"
   ]
  },
  {
   "cell_type": "code",
   "execution_count": 89,
   "metadata": {
    "collapsed": false
   },
   "outputs": [
    {
     "data": {
      "text/plain": [
       "' '"
      ]
     },
     "execution_count": 89,
     "metadata": {},
     "output_type": "execute_result"
    }
   ],
   "source": [
    "s[0]"
   ]
  },
  {
   "cell_type": "code",
   "execution_count": 90,
   "metadata": {
    "collapsed": false
   },
   "outputs": [
    {
     "data": {
      "text/plain": [
       "'i'"
      ]
     },
     "execution_count": 90,
     "metadata": {},
     "output_type": "execute_result"
    }
   ],
   "source": [
    "s[1]"
   ]
  },
  {
   "cell_type": "code",
   "execution_count": 91,
   "metadata": {
    "collapsed": false
   },
   "outputs": [
    {
     "data": {
      "text/plain": [
       "' '"
      ]
     },
     "execution_count": 91,
     "metadata": {},
     "output_type": "execute_result"
    }
   ],
   "source": [
    "s[2]"
   ]
  },
  {
   "cell_type": "code",
   "execution_count": 92,
   "metadata": {
    "collapsed": false
   },
   "outputs": [
    {
     "data": {
      "text/plain": [
       "'a'"
      ]
     },
     "execution_count": 92,
     "metadata": {},
     "output_type": "execute_result"
    }
   ],
   "source": [
    "s[3]"
   ]
  },
  {
   "cell_type": "code",
   "execution_count": 93,
   "metadata": {
    "collapsed": false
   },
   "outputs": [
    {
     "data": {
      "text/plain": [
       "3"
      ]
     },
     "execution_count": 93,
     "metadata": {},
     "output_type": "execute_result"
    }
   ],
   "source": [
    "s.find('am')"
   ]
  },
  {
   "cell_type": "code",
   "execution_count": 94,
   "metadata": {
    "collapsed": false
   },
   "outputs": [
    {
     "data": {
      "text/plain": [
       "-1"
      ]
     },
     "execution_count": 94,
     "metadata": {},
     "output_type": "execute_result"
    }
   ],
   "source": [
    "s.find('was') #s.find('was')!=-1"
   ]
  },
  {
   "cell_type": "code",
   "execution_count": 95,
   "metadata": {
    "collapsed": false
   },
   "outputs": [
    {
     "name": "stdout",
     "output_type": "stream",
     "text": [
      "did not find was\n"
     ]
    }
   ],
   "source": [
    "if s.find('was')==-1:\n",
    "    print 'did not find was'"
   ]
  },
  {
   "cell_type": "code",
   "execution_count": 96,
   "metadata": {
    "collapsed": false
   },
   "outputs": [
    {
     "data": {
      "text/plain": [
       "' I AM HAPPY '"
      ]
     },
     "execution_count": 96,
     "metadata": {},
     "output_type": "execute_result"
    }
   ],
   "source": [
    "s.upper()"
   ]
  },
  {
   "cell_type": "code",
   "execution_count": 97,
   "metadata": {
    "collapsed": false
   },
   "outputs": [
    {
     "data": {
      "text/plain": [
       "' i am happy '"
      ]
     },
     "execution_count": 97,
     "metadata": {},
     "output_type": "execute_result"
    }
   ],
   "source": [
    "s"
   ]
  },
  {
   "cell_type": "code",
   "execution_count": 98,
   "metadata": {
    "collapsed": true
   },
   "outputs": [],
   "source": [
    "L=['a', 'b', 'c']"
   ]
  },
  {
   "cell_type": "code",
   "execution_count": 99,
   "metadata": {
    "collapsed": false
   },
   "outputs": [
    {
     "data": {
      "text/plain": [
       "['a', 'b', 'c']"
      ]
     },
     "execution_count": 99,
     "metadata": {},
     "output_type": "execute_result"
    }
   ],
   "source": [
    "L"
   ]
  },
  {
   "cell_type": "code",
   "execution_count": 100,
   "metadata": {
    "collapsed": false
   },
   "outputs": [],
   "source": [
    "L.append('d')"
   ]
  },
  {
   "cell_type": "code",
   "execution_count": 101,
   "metadata": {
    "collapsed": false
   },
   "outputs": [
    {
     "data": {
      "text/plain": [
       "['a', 'b', 'c', 'd']"
      ]
     },
     "execution_count": 101,
     "metadata": {},
     "output_type": "execute_result"
    }
   ],
   "source": [
    "L"
   ]
  },
  {
   "cell_type": "code",
   "execution_count": 102,
   "metadata": {
    "collapsed": true
   },
   "outputs": [],
   "source": [
    "L.remove('c')"
   ]
  },
  {
   "cell_type": "code",
   "execution_count": 103,
   "metadata": {
    "collapsed": false
   },
   "outputs": [
    {
     "data": {
      "text/plain": [
       "['a', 'b', 'd']"
      ]
     },
     "execution_count": 103,
     "metadata": {},
     "output_type": "execute_result"
    }
   ],
   "source": [
    "L"
   ]
  },
  {
   "cell_type": "code",
   "execution_count": 104,
   "metadata": {
    "collapsed": true
   },
   "outputs": [],
   "source": [
    "del L[0]"
   ]
  },
  {
   "cell_type": "code",
   "execution_count": 105,
   "metadata": {
    "collapsed": false
   },
   "outputs": [
    {
     "data": {
      "text/plain": [
       "['b', 'd']"
      ]
     },
     "execution_count": 105,
     "metadata": {},
     "output_type": "execute_result"
    }
   ],
   "source": [
    "L"
   ]
  },
  {
   "cell_type": "code",
   "execution_count": 106,
   "metadata": {
    "collapsed": false
   },
   "outputs": [],
   "source": [
    "L.insert(0, 'a')"
   ]
  },
  {
   "cell_type": "code",
   "execution_count": 107,
   "metadata": {
    "collapsed": false
   },
   "outputs": [
    {
     "data": {
      "text/plain": [
       "['a', 'b', 'd']"
      ]
     },
     "execution_count": 107,
     "metadata": {},
     "output_type": "execute_result"
    }
   ],
   "source": [
    "L"
   ]
  },
  {
   "cell_type": "code",
   "execution_count": 108,
   "metadata": {
    "collapsed": true
   },
   "outputs": [],
   "source": [
    "L.insert(-1, 'c')"
   ]
  },
  {
   "cell_type": "code",
   "execution_count": 109,
   "metadata": {
    "collapsed": false
   },
   "outputs": [
    {
     "data": {
      "text/plain": [
       "['a', 'b', 'c', 'd']"
      ]
     },
     "execution_count": 109,
     "metadata": {},
     "output_type": "execute_result"
    }
   ],
   "source": [
    "L"
   ]
  },
  {
   "cell_type": "code",
   "execution_count": 110,
   "metadata": {
    "collapsed": true
   },
   "outputs": [],
   "source": [
    "L.insert(1,'e')"
   ]
  },
  {
   "cell_type": "code",
   "execution_count": 111,
   "metadata": {
    "collapsed": false
   },
   "outputs": [
    {
     "data": {
      "text/plain": [
       "['a', 'e', 'b', 'c', 'd']"
      ]
     },
     "execution_count": 111,
     "metadata": {},
     "output_type": "execute_result"
    }
   ],
   "source": [
    "L"
   ]
  },
  {
   "cell_type": "code",
   "execution_count": 112,
   "metadata": {
    "collapsed": false
   },
   "outputs": [
    {
     "data": {
      "text/plain": [
       "['a', 'b', 'c', 'd', 'e']"
      ]
     },
     "execution_count": 112,
     "metadata": {},
     "output_type": "execute_result"
    }
   ],
   "source": [
    "sorted(L)"
   ]
  },
  {
   "cell_type": "code",
   "execution_count": 113,
   "metadata": {
    "collapsed": false
   },
   "outputs": [
    {
     "data": {
      "text/plain": [
       "['a', 'e', 'b', 'c', 'd']"
      ]
     },
     "execution_count": 113,
     "metadata": {},
     "output_type": "execute_result"
    }
   ],
   "source": [
    "L"
   ]
  },
  {
   "cell_type": "code",
   "execution_count": 114,
   "metadata": {
    "collapsed": true
   },
   "outputs": [],
   "source": [
    "L.sort()"
   ]
  },
  {
   "cell_type": "code",
   "execution_count": 115,
   "metadata": {
    "collapsed": false
   },
   "outputs": [
    {
     "data": {
      "text/plain": [
       "['a', 'b', 'c', 'd', 'e']"
      ]
     },
     "execution_count": 115,
     "metadata": {},
     "output_type": "execute_result"
    }
   ],
   "source": [
    "L"
   ]
  },
  {
   "cell_type": "code",
   "execution_count": 116,
   "metadata": {
    "collapsed": false
   },
   "outputs": [
    {
     "name": "stdout",
     "output_type": "stream",
     "text": [
      "1\n",
      "2\n"
     ]
    }
   ],
   "source": [
    "(a,b)=(1,2)\n",
    "print a\n",
    "print b"
   ]
  },
  {
   "cell_type": "code",
   "execution_count": 117,
   "metadata": {
    "collapsed": false
   },
   "outputs": [
    {
     "name": "stdout",
     "output_type": "stream",
     "text": [
      "2\n",
      "1\n"
     ]
    }
   ],
   "source": [
    "(a,b)=(b,a)\n",
    "print a\n",
    "print b"
   ]
  },
  {
   "cell_type": "code",
   "execution_count": 118,
   "metadata": {
    "collapsed": true
   },
   "outputs": [],
   "source": [
    "L=[1,1,2,4,5,5]"
   ]
  },
  {
   "cell_type": "code",
   "execution_count": 119,
   "metadata": {
    "collapsed": false
   },
   "outputs": [],
   "source": [
    "s=set(L)"
   ]
  },
  {
   "cell_type": "code",
   "execution_count": 120,
   "metadata": {
    "collapsed": false
   },
   "outputs": [
    {
     "data": {
      "text/plain": [
       "{1, 2, 4, 5}"
      ]
     },
     "execution_count": 120,
     "metadata": {},
     "output_type": "execute_result"
    }
   ],
   "source": [
    "s"
   ]
  },
  {
   "cell_type": "code",
   "execution_count": 121,
   "metadata": {
    "collapsed": false
   },
   "outputs": [
    {
     "data": {
      "text/plain": [
       "1"
      ]
     },
     "execution_count": 121,
     "metadata": {},
     "output_type": "execute_result"
    }
   ],
   "source": [
    "L[0]"
   ]
  },
  {
   "cell_type": "code",
   "execution_count": 122,
   "metadata": {
    "collapsed": false
   },
   "outputs": [
    {
     "ename": "TypeError",
     "evalue": "'set' object does not support indexing",
     "output_type": "error",
     "traceback": [
      "\u001b[0;31m---------------------------------------------------------------------------\u001b[0m",
      "\u001b[0;31mTypeError\u001b[0m                                 Traceback (most recent call last)",
      "\u001b[0;32m<ipython-input-122-4e98c4f87897>\u001b[0m in \u001b[0;36m<module>\u001b[0;34m()\u001b[0m\n\u001b[0;32m----> 1\u001b[0;31m \u001b[0ms\u001b[0m\u001b[0;34m[\u001b[0m\u001b[0;36m0\u001b[0m\u001b[0;34m]\u001b[0m\u001b[0;34m\u001b[0m\u001b[0m\n\u001b[0m",
      "\u001b[0;31mTypeError\u001b[0m: 'set' object does not support indexing"
     ]
    }
   ],
   "source": [
    "s[0]"
   ]
  },
  {
   "cell_type": "code",
   "execution_count": 123,
   "metadata": {
    "collapsed": false
   },
   "outputs": [],
   "source": [
    "s=list(set(L))"
   ]
  },
  {
   "cell_type": "code",
   "execution_count": 124,
   "metadata": {
    "collapsed": false
   },
   "outputs": [
    {
     "data": {
      "text/plain": [
       "[1, 2, 4, 5]"
      ]
     },
     "execution_count": 124,
     "metadata": {},
     "output_type": "execute_result"
    }
   ],
   "source": [
    "s"
   ]
  },
  {
   "cell_type": "code",
   "execution_count": 125,
   "metadata": {
    "collapsed": false
   },
   "outputs": [
    {
     "data": {
      "text/plain": [
       "1"
      ]
     },
     "execution_count": 125,
     "metadata": {},
     "output_type": "execute_result"
    }
   ],
   "source": [
    "s[0]"
   ]
  },
  {
   "cell_type": "code",
   "execution_count": 160,
   "metadata": {
    "collapsed": true
   },
   "outputs": [],
   "source": [
    "# two list difference\n",
    "L1=[1,1,2,4,5,5]\n",
    "L2=[1,1,2]"
   ]
  },
  {
   "cell_type": "code",
   "execution_count": 161,
   "metadata": {
    "collapsed": false
   },
   "outputs": [
    {
     "data": {
      "text/plain": [
       "[4, 5, 5]"
      ]
     },
     "execution_count": 161,
     "metadata": {},
     "output_type": "execute_result"
    }
   ],
   "source": [
    "[x for x in L1 if x not in L2]"
   ]
  },
  {
   "cell_type": "code",
   "execution_count": 162,
   "metadata": {
    "collapsed": false
   },
   "outputs": [
    {
     "data": {
      "text/plain": [
       "[4, 5]"
      ]
     },
     "execution_count": 162,
     "metadata": {},
     "output_type": "execute_result"
    }
   ],
   "source": [
    "list(set(L1) - set(L2))"
   ]
  },
  {
   "cell_type": "code",
   "execution_count": 137,
   "metadata": {
    "collapsed": false
   },
   "outputs": [],
   "source": [
    "dic={'name': 'john', 'height': 180, 'age': 30}"
   ]
  },
  {
   "cell_type": "code",
   "execution_count": 138,
   "metadata": {
    "collapsed": false
   },
   "outputs": [
    {
     "data": {
      "text/plain": [
       "['age', 'name', 'height']"
      ]
     },
     "execution_count": 138,
     "metadata": {},
     "output_type": "execute_result"
    }
   ],
   "source": [
    "dic.keys()"
   ]
  },
  {
   "cell_type": "code",
   "execution_count": 139,
   "metadata": {
    "collapsed": false
   },
   "outputs": [
    {
     "data": {
      "text/plain": [
       "[30, 'john', 180]"
      ]
     },
     "execution_count": 139,
     "metadata": {},
     "output_type": "execute_result"
    }
   ],
   "source": [
    "dic.values()"
   ]
  },
  {
   "cell_type": "code",
   "execution_count": 140,
   "metadata": {
    "collapsed": false
   },
   "outputs": [
    {
     "data": {
      "text/plain": [
       "30"
      ]
     },
     "execution_count": 140,
     "metadata": {},
     "output_type": "execute_result"
    }
   ],
   "source": [
    "dic.values()[0]"
   ]
  },
  {
   "cell_type": "code",
   "execution_count": 141,
   "metadata": {
    "collapsed": false
   },
   "outputs": [
    {
     "data": {
      "text/plain": [
       "180"
      ]
     },
     "execution_count": 141,
     "metadata": {},
     "output_type": "execute_result"
    }
   ],
   "source": [
    "dic['height']"
   ]
  },
  {
   "cell_type": "code",
   "execution_count": 142,
   "metadata": {
    "collapsed": true
   },
   "outputs": [],
   "source": [
    "dic['sex']='male'"
   ]
  },
  {
   "cell_type": "code",
   "execution_count": 143,
   "metadata": {
    "collapsed": false
   },
   "outputs": [
    {
     "data": {
      "text/plain": [
       "{'age': 30, 'height': 180, 'name': 'john', 'sex': 'male'}"
      ]
     },
     "execution_count": 143,
     "metadata": {},
     "output_type": "execute_result"
    }
   ],
   "source": [
    "dic"
   ]
  },
  {
   "cell_type": "code",
   "execution_count": 144,
   "metadata": {
    "collapsed": false
   },
   "outputs": [
    {
     "data": {
      "text/plain": [
       "[('age', 30), ('sex', 'male'), ('name', 'john'), ('height', 180)]"
      ]
     },
     "execution_count": 144,
     "metadata": {},
     "output_type": "execute_result"
    }
   ],
   "source": [
    "dic.items()"
   ]
  },
  {
   "cell_type": "code",
   "execution_count": 145,
   "metadata": {
    "collapsed": false
   },
   "outputs": [
    {
     "name": "stdout",
     "output_type": "stream",
     "text": [
      "a\n",
      "b\n",
      "c\n",
      "d\n"
     ]
    }
   ],
   "source": [
    "word=['a', 'b', 'c', 'd']\n",
    "for letter in word:\n",
    "    print letter"
   ]
  },
  {
   "cell_type": "code",
   "execution_count": 146,
   "metadata": {
    "collapsed": false
   },
   "outputs": [
    {
     "name": "stdout",
     "output_type": "stream",
     "text": [
      "0\n",
      "1\n",
      "2\n",
      "3\n",
      "4\n",
      "5\n",
      "6\n",
      "7\n",
      "8\n",
      "9\n"
     ]
    }
   ],
   "source": [
    "for i in range(10):\n",
    "    print i"
   ]
  },
  {
   "cell_type": "code",
   "execution_count": 150,
   "metadata": {
    "collapsed": false
   },
   "outputs": [
    {
     "data": {
      "text/plain": [
       "2550"
      ]
     },
     "execution_count": 150,
     "metadata": {},
     "output_type": "execute_result"
    }
   ],
   "source": [
    "sum=0\n",
    "for i in range(101):\n",
    "    if i%2==0:\n",
    "        sum=sum+i\n",
    "sum"
   ]
  },
  {
   "cell_type": "code",
   "execution_count": 147,
   "metadata": {
    "collapsed": false
   },
   "outputs": [
    {
     "name": "stdout",
     "output_type": "stream",
     "text": [
      "0\n",
      "1\n",
      "2\n",
      "3\n",
      "4\n",
      "5\n",
      "6\n",
      "7\n",
      "8\n",
      "9\n"
     ]
    }
   ],
   "source": [
    "i=0\n",
    "A=[]\n",
    "while i<10:\n",
    "    A.append(i)\n",
    "    print i\n",
    "    i=i+1"
   ]
  },
  {
   "cell_type": "code",
   "execution_count": 148,
   "metadata": {
    "collapsed": false
   },
   "outputs": [
    {
     "data": {
      "text/plain": [
       "[0, 1, 2, 3, 4, 5, 6, 7, 8, 9]"
      ]
     },
     "execution_count": 148,
     "metadata": {},
     "output_type": "execute_result"
    }
   ],
   "source": [
    "A"
   ]
  },
  {
   "cell_type": "code",
   "execution_count": 153,
   "metadata": {
    "collapsed": false
   },
   "outputs": [
    {
     "data": {
      "text/plain": [
       "2550"
      ]
     },
     "execution_count": 153,
     "metadata": {},
     "output_type": "execute_result"
    }
   ],
   "source": [
    "sum=0 \n",
    "i=0\n",
    "while i<101:\n",
    "    if i%2==0:\n",
    "        sum=sum+i\n",
    "    i=i+1\n",
    "sum"
   ]
  },
  {
   "cell_type": "code",
   "execution_count": 120,
   "metadata": {
    "collapsed": true
   },
   "outputs": [],
   "source": [
    "# practice \n",
    "# question 1: The function map can be used for multiple lists. Assume the list Lst below record the price of 6 consecutive days.\n",
    "# Compute the daily return. Hint: Since we have data for 6 days, we have only 5 daily return.\n",
    "Lst=[10.,11.,12.,13.,14.,15.]"
   ]
  },
  {
   "cell_type": "code",
   "execution_count": 121,
   "metadata": {
    "collapsed": false
   },
   "outputs": [],
   "source": [
    "# solution:\n",
    "L1=Lst[0:len(Lst)-1]\n",
    "L2=Lst[1:len(Lst)]\n",
    "ret = map(lambda x, y: (y-x)/x  , L1, L2)"
   ]
  },
  {
   "cell_type": "code",
   "execution_count": 122,
   "metadata": {
    "collapsed": false
   },
   "outputs": [
    {
     "data": {
      "text/plain": [
       "[0.1,\n",
       " 0.09090909090909091,\n",
       " 0.08333333333333333,\n",
       " 0.07692307692307693,\n",
       " 0.07142857142857142]"
      ]
     },
     "execution_count": 122,
     "metadata": {},
     "output_type": "execute_result"
    }
   ],
   "source": [
    "ret"
   ]
  },
  {
   "cell_type": "code",
   "execution_count": 123,
   "metadata": {
    "collapsed": false
   },
   "outputs": [
    {
     "data": {
      "text/plain": [
       "[0.1, 0.09090909090909091, 0.08333333333333333]"
      ]
     },
     "execution_count": 123,
     "metadata": {},
     "output_type": "execute_result"
    }
   ],
   "source": [
    "#Find the returns that are greater than 8%\n",
    "filter(lambda r: r>0.08, ret)"
   ]
  },
  {
   "cell_type": "code",
   "execution_count": 124,
   "metadata": {
    "collapsed": false
   },
   "outputs": [
    {
     "data": {
      "text/plain": [
       "[(0.1, 1), (0.09090909090909091, 2), (0.08333333333333333, 3)]"
      ]
     },
     "execution_count": 124,
     "metadata": {},
     "output_type": "execute_result"
    }
   ],
   "source": [
    "# Find the days with returns greater than 8%. Your code need to report if it's the first day, second day...etc\n",
    "filter(lambda r: r[0]>0.08, zip(ret, range(1, 1+len(ret))  ))"
   ]
  },
  {
   "cell_type": "code",
   "execution_count": 128,
   "metadata": {
    "collapsed": false
   },
   "outputs": [
    {
     "data": {
      "text/plain": [
       "[1, 2, 3, 4, 5]"
      ]
     },
     "execution_count": 128,
     "metadata": {},
     "output_type": "execute_result"
    }
   ],
   "source": [
    "range(1, 1+len(ret))"
   ]
  },
  {
   "cell_type": "code",
   "execution_count": 129,
   "metadata": {
    "collapsed": false
   },
   "outputs": [
    {
     "data": {
      "text/plain": [
       "[(0.1, 1),\n",
       " (0.09090909090909091, 2),\n",
       " (0.08333333333333333, 3),\n",
       " (0.07692307692307693, 4),\n",
       " (0.07142857142857142, 5)]"
      ]
     },
     "execution_count": 129,
     "metadata": {},
     "output_type": "execute_result"
    }
   ],
   "source": [
    "zip(ret, range(1, 1+len(ret))  )"
   ]
  },
  {
   "cell_type": "code",
   "execution_count": 126,
   "metadata": {
    "collapsed": false
   },
   "outputs": [
    {
     "data": {
      "text/plain": [
       "233168"
      ]
     },
     "execution_count": 126,
     "metadata": {},
     "output_type": "execute_result"
    }
   ],
   "source": [
    "# question 2: Use the list comprehension this time: Sum up the numbers divided by 3 or 5 from 1 to 999.\n",
    "Lst=range(1,1000)\n",
    "sum([x if x%3==0 or x%5==0 else 0 for x in Lst])"
   ]
  },
  {
   "cell_type": "code",
   "execution_count": 125,
   "metadata": {
    "collapsed": false
   },
   "outputs": [
    {
     "data": {
      "text/plain": [
       "[0,\n",
       " 0,\n",
       " 3,\n",
       " 0,\n",
       " 5,\n",
       " 6,\n",
       " 0,\n",
       " 0,\n",
       " 9,\n",
       " 10,\n",
       " 0,\n",
       " 12,\n",
       " 0,\n",
       " 0,\n",
       " 15,\n",
       " 0,\n",
       " 0,\n",
       " 18,\n",
       " 0,\n",
       " 20,\n",
       " 21,\n",
       " 0,\n",
       " 0,\n",
       " 24,\n",
       " 25,\n",
       " 0,\n",
       " 27,\n",
       " 0,\n",
       " 0,\n",
       " 30,\n",
       " 0,\n",
       " 0,\n",
       " 33,\n",
       " 0,\n",
       " 35,\n",
       " 36,\n",
       " 0,\n",
       " 0,\n",
       " 39,\n",
       " 40,\n",
       " 0,\n",
       " 42,\n",
       " 0,\n",
       " 0,\n",
       " 45,\n",
       " 0,\n",
       " 0,\n",
       " 48,\n",
       " 0,\n",
       " 50,\n",
       " 51,\n",
       " 0,\n",
       " 0,\n",
       " 54,\n",
       " 55,\n",
       " 0,\n",
       " 57,\n",
       " 0,\n",
       " 0,\n",
       " 60,\n",
       " 0,\n",
       " 0,\n",
       " 63,\n",
       " 0,\n",
       " 65,\n",
       " 66,\n",
       " 0,\n",
       " 0,\n",
       " 69,\n",
       " 70,\n",
       " 0,\n",
       " 72,\n",
       " 0,\n",
       " 0,\n",
       " 75,\n",
       " 0,\n",
       " 0,\n",
       " 78,\n",
       " 0,\n",
       " 80,\n",
       " 81,\n",
       " 0,\n",
       " 0,\n",
       " 84,\n",
       " 85,\n",
       " 0,\n",
       " 87,\n",
       " 0,\n",
       " 0,\n",
       " 90,\n",
       " 0,\n",
       " 0,\n",
       " 93,\n",
       " 0,\n",
       " 95,\n",
       " 96,\n",
       " 0,\n",
       " 0,\n",
       " 99,\n",
       " 100,\n",
       " 0,\n",
       " 102,\n",
       " 0,\n",
       " 0,\n",
       " 105,\n",
       " 0,\n",
       " 0,\n",
       " 108,\n",
       " 0,\n",
       " 110,\n",
       " 111,\n",
       " 0,\n",
       " 0,\n",
       " 114,\n",
       " 115,\n",
       " 0,\n",
       " 117,\n",
       " 0,\n",
       " 0,\n",
       " 120,\n",
       " 0,\n",
       " 0,\n",
       " 123,\n",
       " 0,\n",
       " 125,\n",
       " 126,\n",
       " 0,\n",
       " 0,\n",
       " 129,\n",
       " 130,\n",
       " 0,\n",
       " 132,\n",
       " 0,\n",
       " 0,\n",
       " 135,\n",
       " 0,\n",
       " 0,\n",
       " 138,\n",
       " 0,\n",
       " 140,\n",
       " 141,\n",
       " 0,\n",
       " 0,\n",
       " 144,\n",
       " 145,\n",
       " 0,\n",
       " 147,\n",
       " 0,\n",
       " 0,\n",
       " 150,\n",
       " 0,\n",
       " 0,\n",
       " 153,\n",
       " 0,\n",
       " 155,\n",
       " 156,\n",
       " 0,\n",
       " 0,\n",
       " 159,\n",
       " 160,\n",
       " 0,\n",
       " 162,\n",
       " 0,\n",
       " 0,\n",
       " 165,\n",
       " 0,\n",
       " 0,\n",
       " 168,\n",
       " 0,\n",
       " 170,\n",
       " 171,\n",
       " 0,\n",
       " 0,\n",
       " 174,\n",
       " 175,\n",
       " 0,\n",
       " 177,\n",
       " 0,\n",
       " 0,\n",
       " 180,\n",
       " 0,\n",
       " 0,\n",
       " 183,\n",
       " 0,\n",
       " 185,\n",
       " 186,\n",
       " 0,\n",
       " 0,\n",
       " 189,\n",
       " 190,\n",
       " 0,\n",
       " 192,\n",
       " 0,\n",
       " 0,\n",
       " 195,\n",
       " 0,\n",
       " 0,\n",
       " 198,\n",
       " 0,\n",
       " 200,\n",
       " 201,\n",
       " 0,\n",
       " 0,\n",
       " 204,\n",
       " 205,\n",
       " 0,\n",
       " 207,\n",
       " 0,\n",
       " 0,\n",
       " 210,\n",
       " 0,\n",
       " 0,\n",
       " 213,\n",
       " 0,\n",
       " 215,\n",
       " 216,\n",
       " 0,\n",
       " 0,\n",
       " 219,\n",
       " 220,\n",
       " 0,\n",
       " 222,\n",
       " 0,\n",
       " 0,\n",
       " 225,\n",
       " 0,\n",
       " 0,\n",
       " 228,\n",
       " 0,\n",
       " 230,\n",
       " 231,\n",
       " 0,\n",
       " 0,\n",
       " 234,\n",
       " 235,\n",
       " 0,\n",
       " 237,\n",
       " 0,\n",
       " 0,\n",
       " 240,\n",
       " 0,\n",
       " 0,\n",
       " 243,\n",
       " 0,\n",
       " 245,\n",
       " 246,\n",
       " 0,\n",
       " 0,\n",
       " 249,\n",
       " 250,\n",
       " 0,\n",
       " 252,\n",
       " 0,\n",
       " 0,\n",
       " 255,\n",
       " 0,\n",
       " 0,\n",
       " 258,\n",
       " 0,\n",
       " 260,\n",
       " 261,\n",
       " 0,\n",
       " 0,\n",
       " 264,\n",
       " 265,\n",
       " 0,\n",
       " 267,\n",
       " 0,\n",
       " 0,\n",
       " 270,\n",
       " 0,\n",
       " 0,\n",
       " 273,\n",
       " 0,\n",
       " 275,\n",
       " 276,\n",
       " 0,\n",
       " 0,\n",
       " 279,\n",
       " 280,\n",
       " 0,\n",
       " 282,\n",
       " 0,\n",
       " 0,\n",
       " 285,\n",
       " 0,\n",
       " 0,\n",
       " 288,\n",
       " 0,\n",
       " 290,\n",
       " 291,\n",
       " 0,\n",
       " 0,\n",
       " 294,\n",
       " 295,\n",
       " 0,\n",
       " 297,\n",
       " 0,\n",
       " 0,\n",
       " 300,\n",
       " 0,\n",
       " 0,\n",
       " 303,\n",
       " 0,\n",
       " 305,\n",
       " 306,\n",
       " 0,\n",
       " 0,\n",
       " 309,\n",
       " 310,\n",
       " 0,\n",
       " 312,\n",
       " 0,\n",
       " 0,\n",
       " 315,\n",
       " 0,\n",
       " 0,\n",
       " 318,\n",
       " 0,\n",
       " 320,\n",
       " 321,\n",
       " 0,\n",
       " 0,\n",
       " 324,\n",
       " 325,\n",
       " 0,\n",
       " 327,\n",
       " 0,\n",
       " 0,\n",
       " 330,\n",
       " 0,\n",
       " 0,\n",
       " 333,\n",
       " 0,\n",
       " 335,\n",
       " 336,\n",
       " 0,\n",
       " 0,\n",
       " 339,\n",
       " 340,\n",
       " 0,\n",
       " 342,\n",
       " 0,\n",
       " 0,\n",
       " 345,\n",
       " 0,\n",
       " 0,\n",
       " 348,\n",
       " 0,\n",
       " 350,\n",
       " 351,\n",
       " 0,\n",
       " 0,\n",
       " 354,\n",
       " 355,\n",
       " 0,\n",
       " 357,\n",
       " 0,\n",
       " 0,\n",
       " 360,\n",
       " 0,\n",
       " 0,\n",
       " 363,\n",
       " 0,\n",
       " 365,\n",
       " 366,\n",
       " 0,\n",
       " 0,\n",
       " 369,\n",
       " 370,\n",
       " 0,\n",
       " 372,\n",
       " 0,\n",
       " 0,\n",
       " 375,\n",
       " 0,\n",
       " 0,\n",
       " 378,\n",
       " 0,\n",
       " 380,\n",
       " 381,\n",
       " 0,\n",
       " 0,\n",
       " 384,\n",
       " 385,\n",
       " 0,\n",
       " 387,\n",
       " 0,\n",
       " 0,\n",
       " 390,\n",
       " 0,\n",
       " 0,\n",
       " 393,\n",
       " 0,\n",
       " 395,\n",
       " 396,\n",
       " 0,\n",
       " 0,\n",
       " 399,\n",
       " 400,\n",
       " 0,\n",
       " 402,\n",
       " 0,\n",
       " 0,\n",
       " 405,\n",
       " 0,\n",
       " 0,\n",
       " 408,\n",
       " 0,\n",
       " 410,\n",
       " 411,\n",
       " 0,\n",
       " 0,\n",
       " 414,\n",
       " 415,\n",
       " 0,\n",
       " 417,\n",
       " 0,\n",
       " 0,\n",
       " 420,\n",
       " 0,\n",
       " 0,\n",
       " 423,\n",
       " 0,\n",
       " 425,\n",
       " 426,\n",
       " 0,\n",
       " 0,\n",
       " 429,\n",
       " 430,\n",
       " 0,\n",
       " 432,\n",
       " 0,\n",
       " 0,\n",
       " 435,\n",
       " 0,\n",
       " 0,\n",
       " 438,\n",
       " 0,\n",
       " 440,\n",
       " 441,\n",
       " 0,\n",
       " 0,\n",
       " 444,\n",
       " 445,\n",
       " 0,\n",
       " 447,\n",
       " 0,\n",
       " 0,\n",
       " 450,\n",
       " 0,\n",
       " 0,\n",
       " 453,\n",
       " 0,\n",
       " 455,\n",
       " 456,\n",
       " 0,\n",
       " 0,\n",
       " 459,\n",
       " 460,\n",
       " 0,\n",
       " 462,\n",
       " 0,\n",
       " 0,\n",
       " 465,\n",
       " 0,\n",
       " 0,\n",
       " 468,\n",
       " 0,\n",
       " 470,\n",
       " 471,\n",
       " 0,\n",
       " 0,\n",
       " 474,\n",
       " 475,\n",
       " 0,\n",
       " 477,\n",
       " 0,\n",
       " 0,\n",
       " 480,\n",
       " 0,\n",
       " 0,\n",
       " 483,\n",
       " 0,\n",
       " 485,\n",
       " 486,\n",
       " 0,\n",
       " 0,\n",
       " 489,\n",
       " 490,\n",
       " 0,\n",
       " 492,\n",
       " 0,\n",
       " 0,\n",
       " 495,\n",
       " 0,\n",
       " 0,\n",
       " 498,\n",
       " 0,\n",
       " 500,\n",
       " 501,\n",
       " 0,\n",
       " 0,\n",
       " 504,\n",
       " 505,\n",
       " 0,\n",
       " 507,\n",
       " 0,\n",
       " 0,\n",
       " 510,\n",
       " 0,\n",
       " 0,\n",
       " 513,\n",
       " 0,\n",
       " 515,\n",
       " 516,\n",
       " 0,\n",
       " 0,\n",
       " 519,\n",
       " 520,\n",
       " 0,\n",
       " 522,\n",
       " 0,\n",
       " 0,\n",
       " 525,\n",
       " 0,\n",
       " 0,\n",
       " 528,\n",
       " 0,\n",
       " 530,\n",
       " 531,\n",
       " 0,\n",
       " 0,\n",
       " 534,\n",
       " 535,\n",
       " 0,\n",
       " 537,\n",
       " 0,\n",
       " 0,\n",
       " 540,\n",
       " 0,\n",
       " 0,\n",
       " 543,\n",
       " 0,\n",
       " 545,\n",
       " 546,\n",
       " 0,\n",
       " 0,\n",
       " 549,\n",
       " 550,\n",
       " 0,\n",
       " 552,\n",
       " 0,\n",
       " 0,\n",
       " 555,\n",
       " 0,\n",
       " 0,\n",
       " 558,\n",
       " 0,\n",
       " 560,\n",
       " 561,\n",
       " 0,\n",
       " 0,\n",
       " 564,\n",
       " 565,\n",
       " 0,\n",
       " 567,\n",
       " 0,\n",
       " 0,\n",
       " 570,\n",
       " 0,\n",
       " 0,\n",
       " 573,\n",
       " 0,\n",
       " 575,\n",
       " 576,\n",
       " 0,\n",
       " 0,\n",
       " 579,\n",
       " 580,\n",
       " 0,\n",
       " 582,\n",
       " 0,\n",
       " 0,\n",
       " 585,\n",
       " 0,\n",
       " 0,\n",
       " 588,\n",
       " 0,\n",
       " 590,\n",
       " 591,\n",
       " 0,\n",
       " 0,\n",
       " 594,\n",
       " 595,\n",
       " 0,\n",
       " 597,\n",
       " 0,\n",
       " 0,\n",
       " 600,\n",
       " 0,\n",
       " 0,\n",
       " 603,\n",
       " 0,\n",
       " 605,\n",
       " 606,\n",
       " 0,\n",
       " 0,\n",
       " 609,\n",
       " 610,\n",
       " 0,\n",
       " 612,\n",
       " 0,\n",
       " 0,\n",
       " 615,\n",
       " 0,\n",
       " 0,\n",
       " 618,\n",
       " 0,\n",
       " 620,\n",
       " 621,\n",
       " 0,\n",
       " 0,\n",
       " 624,\n",
       " 625,\n",
       " 0,\n",
       " 627,\n",
       " 0,\n",
       " 0,\n",
       " 630,\n",
       " 0,\n",
       " 0,\n",
       " 633,\n",
       " 0,\n",
       " 635,\n",
       " 636,\n",
       " 0,\n",
       " 0,\n",
       " 639,\n",
       " 640,\n",
       " 0,\n",
       " 642,\n",
       " 0,\n",
       " 0,\n",
       " 645,\n",
       " 0,\n",
       " 0,\n",
       " 648,\n",
       " 0,\n",
       " 650,\n",
       " 651,\n",
       " 0,\n",
       " 0,\n",
       " 654,\n",
       " 655,\n",
       " 0,\n",
       " 657,\n",
       " 0,\n",
       " 0,\n",
       " 660,\n",
       " 0,\n",
       " 0,\n",
       " 663,\n",
       " 0,\n",
       " 665,\n",
       " 666,\n",
       " 0,\n",
       " 0,\n",
       " 669,\n",
       " 670,\n",
       " 0,\n",
       " 672,\n",
       " 0,\n",
       " 0,\n",
       " 675,\n",
       " 0,\n",
       " 0,\n",
       " 678,\n",
       " 0,\n",
       " 680,\n",
       " 681,\n",
       " 0,\n",
       " 0,\n",
       " 684,\n",
       " 685,\n",
       " 0,\n",
       " 687,\n",
       " 0,\n",
       " 0,\n",
       " 690,\n",
       " 0,\n",
       " 0,\n",
       " 693,\n",
       " 0,\n",
       " 695,\n",
       " 696,\n",
       " 0,\n",
       " 0,\n",
       " 699,\n",
       " 700,\n",
       " 0,\n",
       " 702,\n",
       " 0,\n",
       " 0,\n",
       " 705,\n",
       " 0,\n",
       " 0,\n",
       " 708,\n",
       " 0,\n",
       " 710,\n",
       " 711,\n",
       " 0,\n",
       " 0,\n",
       " 714,\n",
       " 715,\n",
       " 0,\n",
       " 717,\n",
       " 0,\n",
       " 0,\n",
       " 720,\n",
       " 0,\n",
       " 0,\n",
       " 723,\n",
       " 0,\n",
       " 725,\n",
       " 726,\n",
       " 0,\n",
       " 0,\n",
       " 729,\n",
       " 730,\n",
       " 0,\n",
       " 732,\n",
       " 0,\n",
       " 0,\n",
       " 735,\n",
       " 0,\n",
       " 0,\n",
       " 738,\n",
       " 0,\n",
       " 740,\n",
       " 741,\n",
       " 0,\n",
       " 0,\n",
       " 744,\n",
       " 745,\n",
       " 0,\n",
       " 747,\n",
       " 0,\n",
       " 0,\n",
       " 750,\n",
       " 0,\n",
       " 0,\n",
       " 753,\n",
       " 0,\n",
       " 755,\n",
       " 756,\n",
       " 0,\n",
       " 0,\n",
       " 759,\n",
       " 760,\n",
       " 0,\n",
       " 762,\n",
       " 0,\n",
       " 0,\n",
       " 765,\n",
       " 0,\n",
       " 0,\n",
       " 768,\n",
       " 0,\n",
       " 770,\n",
       " 771,\n",
       " 0,\n",
       " 0,\n",
       " 774,\n",
       " 775,\n",
       " 0,\n",
       " 777,\n",
       " 0,\n",
       " 0,\n",
       " 780,\n",
       " 0,\n",
       " 0,\n",
       " 783,\n",
       " 0,\n",
       " 785,\n",
       " 786,\n",
       " 0,\n",
       " 0,\n",
       " 789,\n",
       " 790,\n",
       " 0,\n",
       " 792,\n",
       " 0,\n",
       " 0,\n",
       " 795,\n",
       " 0,\n",
       " 0,\n",
       " 798,\n",
       " 0,\n",
       " 800,\n",
       " 801,\n",
       " 0,\n",
       " 0,\n",
       " 804,\n",
       " 805,\n",
       " 0,\n",
       " 807,\n",
       " 0,\n",
       " 0,\n",
       " 810,\n",
       " 0,\n",
       " 0,\n",
       " 813,\n",
       " 0,\n",
       " 815,\n",
       " 816,\n",
       " 0,\n",
       " 0,\n",
       " 819,\n",
       " 820,\n",
       " 0,\n",
       " 822,\n",
       " 0,\n",
       " 0,\n",
       " 825,\n",
       " 0,\n",
       " 0,\n",
       " 828,\n",
       " 0,\n",
       " 830,\n",
       " 831,\n",
       " 0,\n",
       " 0,\n",
       " 834,\n",
       " 835,\n",
       " 0,\n",
       " 837,\n",
       " 0,\n",
       " 0,\n",
       " 840,\n",
       " 0,\n",
       " 0,\n",
       " 843,\n",
       " 0,\n",
       " 845,\n",
       " 846,\n",
       " 0,\n",
       " 0,\n",
       " 849,\n",
       " 850,\n",
       " 0,\n",
       " 852,\n",
       " 0,\n",
       " 0,\n",
       " 855,\n",
       " 0,\n",
       " 0,\n",
       " 858,\n",
       " 0,\n",
       " 860,\n",
       " 861,\n",
       " 0,\n",
       " 0,\n",
       " 864,\n",
       " 865,\n",
       " 0,\n",
       " 867,\n",
       " 0,\n",
       " 0,\n",
       " 870,\n",
       " 0,\n",
       " 0,\n",
       " 873,\n",
       " 0,\n",
       " 875,\n",
       " 876,\n",
       " 0,\n",
       " 0,\n",
       " 879,\n",
       " 880,\n",
       " 0,\n",
       " 882,\n",
       " 0,\n",
       " 0,\n",
       " 885,\n",
       " 0,\n",
       " 0,\n",
       " 888,\n",
       " 0,\n",
       " 890,\n",
       " 891,\n",
       " 0,\n",
       " 0,\n",
       " 894,\n",
       " 895,\n",
       " 0,\n",
       " 897,\n",
       " 0,\n",
       " 0,\n",
       " 900,\n",
       " 0,\n",
       " 0,\n",
       " 903,\n",
       " 0,\n",
       " 905,\n",
       " 906,\n",
       " 0,\n",
       " 0,\n",
       " 909,\n",
       " 910,\n",
       " 0,\n",
       " 912,\n",
       " 0,\n",
       " 0,\n",
       " 915,\n",
       " 0,\n",
       " 0,\n",
       " 918,\n",
       " 0,\n",
       " 920,\n",
       " 921,\n",
       " 0,\n",
       " 0,\n",
       " 924,\n",
       " 925,\n",
       " 0,\n",
       " 927,\n",
       " 0,\n",
       " 0,\n",
       " 930,\n",
       " 0,\n",
       " 0,\n",
       " 933,\n",
       " 0,\n",
       " 935,\n",
       " 936,\n",
       " 0,\n",
       " 0,\n",
       " 939,\n",
       " 940,\n",
       " 0,\n",
       " 942,\n",
       " 0,\n",
       " 0,\n",
       " 945,\n",
       " 0,\n",
       " 0,\n",
       " 948,\n",
       " 0,\n",
       " 950,\n",
       " 951,\n",
       " 0,\n",
       " 0,\n",
       " 954,\n",
       " 955,\n",
       " 0,\n",
       " 957,\n",
       " 0,\n",
       " 0,\n",
       " 960,\n",
       " 0,\n",
       " 0,\n",
       " 963,\n",
       " 0,\n",
       " 965,\n",
       " 966,\n",
       " 0,\n",
       " 0,\n",
       " 969,\n",
       " 970,\n",
       " 0,\n",
       " 972,\n",
       " 0,\n",
       " 0,\n",
       " 975,\n",
       " 0,\n",
       " 0,\n",
       " 978,\n",
       " 0,\n",
       " 980,\n",
       " 981,\n",
       " 0,\n",
       " 0,\n",
       " 984,\n",
       " 985,\n",
       " 0,\n",
       " 987,\n",
       " 0,\n",
       " 0,\n",
       " 990,\n",
       " 0,\n",
       " 0,\n",
       " 993,\n",
       " 0,\n",
       " 995,\n",
       " 996,\n",
       " 0,\n",
       " 0,\n",
       " 999]"
      ]
     },
     "execution_count": 125,
     "metadata": {},
     "output_type": "execute_result"
    }
   ],
   "source": [
    "Lst=range(1,1000)\n",
    "[x if x%3==0 or x%5==0 else 0 for x in Lst]"
   ]
  },
  {
   "cell_type": "code",
   "execution_count": 127,
   "metadata": {
    "collapsed": false
   },
   "outputs": [
    {
     "data": {
      "text/plain": [
       "['c', 'c', 'c', 'c', 'c', 'b', 'b', 'b', 'a', 'a']"
      ]
     },
     "execution_count": 127,
     "metadata": {},
     "output_type": "execute_result"
    }
   ],
   "source": [
    "#  use list comprehension to assign 'a' to the numbers greater than 8; 'b' to the numbers less or equal to 8 \n",
    "# and greater than 5; 'c' to everything else.\n",
    "Lst=range(1, 11)\n",
    "['a' if x>8 else 'b' if x<=8 and x>5 else 'c' for x in Lst]"
   ]
  },
  {
   "cell_type": "code",
   "execution_count": 128,
   "metadata": {
    "collapsed": true
   },
   "outputs": [],
   "source": [
    "A=[]\n",
    "for i in range(1,11):\n",
    "    if i>8:\n",
    "        A.append('a')\n",
    "    elif 5<i<=8:\n",
    "        A.append('b')\n",
    "    else:\n",
    "        A.append('c')"
   ]
  },
  {
   "cell_type": "code",
   "execution_count": 129,
   "metadata": {
    "collapsed": false
   },
   "outputs": [
    {
     "data": {
      "text/plain": [
       "['c', 'c', 'c', 'c', 'c', 'b', 'b', 'b', 'a', 'a']"
      ]
     },
     "execution_count": 129,
     "metadata": {},
     "output_type": "execute_result"
    }
   ],
   "source": [
    "A"
   ]
  },
  {
   "cell_type": "code",
   "execution_count": 130,
   "metadata": {
    "collapsed": false
   },
   "outputs": [
    {
     "data": {
      "text/plain": [
       "[1, 4, 9, 16, 25, 36, 49, 64, 81, 100]"
      ]
     },
     "execution_count": 130,
     "metadata": {},
     "output_type": "execute_result"
    }
   ],
   "source": [
    "# question 3\n",
    "# For the list, Lst, below, square all its elements.\n",
    "Lst=range(1, 11)\n",
    "map(lambda x: x**2, Lst)"
   ]
  },
  {
   "cell_type": "code",
   "execution_count": 131,
   "metadata": {
    "collapsed": false
   },
   "outputs": [
    {
     "data": {
      "text/plain": [
       "[[1, 4, 9], [4, 9, 16], [9, 16, 25]]"
      ]
     },
     "execution_count": 131,
     "metadata": {},
     "output_type": "execute_result"
    }
   ],
   "source": [
    "# For the nested list, Lst, below, square all the elements in each inner list.\n",
    "Lst = [[1,2,3],[2,3,4],[3,4,5]]\n",
    "map(lambda lst: map(lambda ele: ele**2 ,lst) ,Lst)"
   ]
  },
  {
   "cell_type": "code",
   "execution_count": 132,
   "metadata": {
    "collapsed": true
   },
   "outputs": [],
   "source": [
    "# question 4: Write a function countString with two arguments raw_string and string_to_count. \n",
    "# Your function should return the number of times of string_to_count occurs in the the raw_string argument. \n",
    "# In addition, Your function should be case insensitive.\n",
    "def countString(raw_string, string_to_count):\n",
    "    return raw_string.lower().count(string_to_count.lower())"
   ]
  },
  {
   "cell_type": "code",
   "execution_count": 133,
   "metadata": {
    "collapsed": false
   },
   "outputs": [
    {
     "data": {
      "text/plain": [
       "1"
      ]
     },
     "execution_count": 133,
     "metadata": {},
     "output_type": "execute_result"
    }
   ],
   "source": [
    "countString('Welcome to IVY DATA SCIENCE Program!', 'IVY') # 1"
   ]
  },
  {
   "cell_type": "code",
   "execution_count": 134,
   "metadata": {
    "collapsed": false
   },
   "outputs": [
    {
     "data": {
      "text/plain": [
       "2"
      ]
     },
     "execution_count": 134,
     "metadata": {},
     "output_type": "execute_result"
    }
   ],
   "source": [
    "countString('Welcome to ivy/IVY DATA SCIENCE Program!', 'IVY') # 2"
   ]
  },
  {
   "cell_type": "code",
   "execution_count": 136,
   "metadata": {
    "collapsed": true
   },
   "outputs": [],
   "source": [
    "# question 5: Write a function reverseString with an argument raw_string. Your function should return a new string,\n",
    "# reverse the raw_string word by word.\n",
    "def reverseString(raw_string):\n",
    "    return ' '.join(raw_string.split()[::-1])"
   ]
  },
  {
   "cell_type": "code",
   "execution_count": 135,
   "metadata": {
    "collapsed": false
   },
   "outputs": [
    {
     "data": {
      "text/plain": [
       "'margorP ECNEICS ATAD YVI ot emocleW'"
      ]
     },
     "execution_count": 135,
     "metadata": {},
     "output_type": "execute_result"
    }
   ],
   "source": [
    "a='Welcome to IVY DATA SCIENCE Program'\n",
    "a[::-1]"
   ]
  },
  {
   "cell_type": "code",
   "execution_count": 4,
   "metadata": {
    "collapsed": false
   },
   "outputs": [
    {
     "data": {
      "text/plain": [
       "['Program', 'SCIENCE', 'DATA', 'IVY', 'to', 'Welcome']"
      ]
     },
     "execution_count": 4,
     "metadata": {},
     "output_type": "execute_result"
    }
   ],
   "source": [
    "a.split()[::-1]"
   ]
  },
  {
   "cell_type": "code",
   "execution_count": 137,
   "metadata": {
    "collapsed": false
   },
   "outputs": [
    {
     "data": {
      "text/plain": [
       "'Program SCIENCE DATA IVY to Welcome'"
      ]
     },
     "execution_count": 137,
     "metadata": {},
     "output_type": "execute_result"
    }
   ],
   "source": [
    "reverseString('Welcome to IVY DATA SCIENCE Program')"
   ]
  },
  {
   "cell_type": "code",
   "execution_count": 138,
   "metadata": {
    "collapsed": true
   },
   "outputs": [],
   "source": [
    "# question 6: Write a function countLetter to count the number of frequencies of each letter occurs. \n",
    "# In this case your function should only return the frequencies of letters that really occurs. \n",
    "# Again, your function should be case insensitive\n",
    "def countLetter(raw_string):\n",
    "    '''\n",
    "    raw_string: a string\n",
    "    \n",
    "    returns: a dict contains each letter and it's corresponding frequency\n",
    "    '''\n",
    "    \n",
    "    \n",
    "    alphabet = [chr(i) for i in range(ord('a'),ord('z')+1)]\n",
    "    raw_string = raw_string.lower()\n",
    "    result = {}\n",
    "    for i in raw_string:\n",
    "        if i in alphabet:\n",
    "            result[i] = result.get(i, 0) + 1\n",
    "    return result"
   ]
  },
  {
   "cell_type": "code",
   "execution_count": 139,
   "metadata": {
    "collapsed": false
   },
   "outputs": [
    {
     "data": {
      "text/plain": [
       "{}"
      ]
     },
     "execution_count": 139,
     "metadata": {},
     "output_type": "execute_result"
    }
   ],
   "source": [
    "countLetter('') # {}"
   ]
  },
  {
   "cell_type": "code",
   "execution_count": 140,
   "metadata": {
    "collapsed": false
   },
   "outputs": [
    {
     "data": {
      "text/plain": [
       "{}"
      ]
     },
     "execution_count": 140,
     "metadata": {},
     "output_type": "execute_result"
    }
   ],
   "source": [
    "countLetter('1') "
   ]
  },
  {
   "cell_type": "code",
   "execution_count": 141,
   "metadata": {
    "collapsed": false
   },
   "outputs": [
    {
     "data": {
      "text/plain": [
       "{'a': 2, 'b': 2, 'c': 2}"
      ]
     },
     "execution_count": 141,
     "metadata": {},
     "output_type": "execute_result"
    }
   ],
   "source": [
    "countLetter('ABCabc')"
   ]
  },
  {
   "cell_type": "code",
   "execution_count": 142,
   "metadata": {
    "collapsed": false
   },
   "outputs": [
    {
     "data": {
      "text/plain": [
       "{'a': 3,\n",
       " 'c': 3,\n",
       " 'd': 1,\n",
       " 'e': 4,\n",
       " 'g': 1,\n",
       " 'i': 2,\n",
       " 'l': 1,\n",
       " 'm': 2,\n",
       " 'n': 1,\n",
       " 'o': 3,\n",
       " 'p': 1,\n",
       " 'r': 2,\n",
       " 's': 1,\n",
       " 't': 2,\n",
       " 'v': 1,\n",
       " 'w': 1,\n",
       " 'y': 1}"
      ]
     },
     "execution_count": 142,
     "metadata": {},
     "output_type": "execute_result"
    }
   ],
   "source": [
    "countLetter('Welcome to IVY DATA SCIENCE Program')"
   ]
  },
  {
   "cell_type": "code",
   "execution_count": 23,
   "metadata": {
    "collapsed": false
   },
   "outputs": [
    {
     "name": "stdout",
     "output_type": "stream",
     "text": [
      "97\n",
      "98\n",
      "99\n",
      "100\n",
      "101\n",
      "102\n",
      "103\n",
      "104\n",
      "105\n",
      "106\n",
      "107\n",
      "108\n",
      "109\n",
      "110\n",
      "111\n",
      "112\n",
      "113\n",
      "114\n",
      "115\n",
      "116\n",
      "117\n",
      "118\n",
      "119\n",
      "120\n",
      "121\n",
      "122\n"
     ]
    }
   ],
   "source": [
    "for i in range(ord('a'),ord('z')+1):\n",
    "    print i"
   ]
  },
  {
   "cell_type": "code",
   "execution_count": 24,
   "metadata": {
    "collapsed": true
   },
   "outputs": [],
   "source": [
    "alphabet = [chr(i) for i in range(ord('a'),ord('z')+1)]"
   ]
  },
  {
   "cell_type": "code",
   "execution_count": 25,
   "metadata": {
    "collapsed": false
   },
   "outputs": [
    {
     "data": {
      "text/plain": [
       "['a',\n",
       " 'b',\n",
       " 'c',\n",
       " 'd',\n",
       " 'e',\n",
       " 'f',\n",
       " 'g',\n",
       " 'h',\n",
       " 'i',\n",
       " 'j',\n",
       " 'k',\n",
       " 'l',\n",
       " 'm',\n",
       " 'n',\n",
       " 'o',\n",
       " 'p',\n",
       " 'q',\n",
       " 'r',\n",
       " 's',\n",
       " 't',\n",
       " 'u',\n",
       " 'v',\n",
       " 'w',\n",
       " 'x',\n",
       " 'y',\n",
       " 'z']"
      ]
     },
     "execution_count": 25,
     "metadata": {},
     "output_type": "execute_result"
    }
   ],
   "source": [
    "alphabet"
   ]
  },
  {
   "cell_type": "code",
   "execution_count": null,
   "metadata": {
    "collapsed": true
   },
   "outputs": [],
   "source": []
  }
 ],
 "metadata": {
  "kernelspec": {
   "display_name": "Python 2",
   "language": "python",
   "name": "python2"
  },
  "language_info": {
   "codemirror_mode": {
    "name": "ipython",
    "version": 2
   },
   "file_extension": ".py",
   "mimetype": "text/x-python",
   "name": "python",
   "nbconvert_exporter": "python",
   "pygments_lexer": "ipython2",
   "version": "2.7.13"
  }
 },
 "nbformat": 4,
 "nbformat_minor": 0
}
